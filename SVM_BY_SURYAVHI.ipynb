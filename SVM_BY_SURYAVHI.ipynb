{
  "nbformat": 4,
  "nbformat_minor": 0,
  "metadata": {
    "colab": {
      "provenance": []
    },
    "kernelspec": {
      "name": "python3",
      "display_name": "Python 3"
    },
    "language_info": {
      "name": "python"
    }
  },
  "cells": [
    {
      "cell_type": "markdown",
      "source": [
        "\n",
        "\n",
        "## <center>SCV Hands-On on Drug-Analysis\n",
        "\n",
        "\n",
        "\n",
        "\n",
        "\n",
        "\n",
        "\n",
        "\n",
        "\n",
        "\n",
        "\n",
        "\n",
        "\n",
        "\n",
        "\n",
        "\n",
        "\n",
        "\n"
      ],
      "metadata": {
        "id": "xjfY61OEKisi"
      }
    },
    {
      "cell_type": "markdown",
      "source": [
        "![drug.avif](data:image/avif;base64,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)"
      ],
      "metadata": {
        "id": "NkA9_sqcKd8M"
      }
    },
    {
      "cell_type": "markdown",
      "source": [
        "# - **Objective**:\n",
        "\n",
        "The objective of this project is to accurately predict the suitable drug outcomes for patients. To achieve this, we will perform various steps including dataset analysis, outlier detection, data distribution exploration, data preprocessing, model building using Support Vector Classifier (SVC), hyperparameter tuning, and implementing a user-friendly prediction function. The primary goal is to obtain a high accuracy score for the drug classification task."
      ],
      "metadata": {
        "id": "_ztdRrX2OXJj"
      }
    },
    {
      "cell_type": "markdown",
      "source": [
        "# Data Decription\n",
        "\n",
        "Age - Age of the Patient\n",
        "\n",
        "Sex - Gender of the patients\n",
        "\n",
        "BP - Blood Pressure Levels\n",
        "\n",
        "Cholesterol - Cholesterol Levels\n",
        "\n",
        "Na_to_K - Sodium to potassium Ration in Blood\n",
        "\n",
        "Drug - Drug Type"
      ],
      "metadata": {
        "id": "_FeFzI2-Bfvv"
      }
    },
    {
      "cell_type": "code",
      "execution_count": null,
      "metadata": {
        "id": "TC2Vq1r1BUE4"
      },
      "outputs": [],
      "source": [
        "import sklearn\n",
        "from sklearn.svm import SVC\n",
        "import numpy as np\n",
        "import pandas as pd\n",
        "import matplotlib.pyplot as plt\n",
        "import seaborn as sns\n",
        "from sklearn.model_selection import train_test_split\n",
        "from sklearn.metrics import accuracy_score, precision_score, recall_score, f1_score\n",
        "\n",
        "# Import necessary libraries and modules\n",
        "\n",
        "# sklearn: Scikit-learn library for machine learning algorithms and utilities\n",
        "# SVC: Support Vector Classifier from sklearn.svm for classification tasks\n",
        "# numpy: Numerical computing library for efficient array operations\n",
        "# pandas: Data manipulation and analysis library for structured data\n",
        "# matplotlib.pyplot: Plotting library for data visualization\n",
        "# seaborn: Statistical data visualization library based on matplotlib\n",
        "# train_test_split: Function from sklearn.model_selection for splitting data into training and testing sets\n",
        "# accuracy_score, precision_score, recall_score, f1_score: Evaluation metrics from sklearn.metrics for model performance assessment"
      ]
    },
    {
      "cell_type": "code",
      "source": [
        "df=pd.read_csv(\"drug.csv\")"
      ],
      "metadata": {
        "id": "NVODg-E4BVTv"
      },
      "execution_count": null,
      "outputs": []
    },
    {
      "cell_type": "code",
      "source": [
        "df.head()\n",
        "#This code snippet displays the first few rows of the DataFrame df"
      ],
      "metadata": {
        "colab": {
          "base_uri": "https://localhost:8080/",
          "height": 206
        },
        "id": "xPMuO7N2BW0f",
        "outputId": "8301b9b7-89f7-42b4-a039-1bb782768b3d"
      },
      "execution_count": null,
      "outputs": [
        {
          "output_type": "execute_result",
          "data": {
            "text/plain": [
              "   Age Sex      BP Cholesterol  Na_to_K   Drug\n",
              "0   23   F    HIGH        HIGH   25.355  DrugY\n",
              "1   47   M     LOW        HIGH   13.093  drugC\n",
              "2   47   M     LOW        HIGH   10.114  drugC\n",
              "3   28   F  NORMAL        HIGH    7.798  drugX\n",
              "4   61   F     LOW        HIGH   18.043  DrugY"
            ],
            "text/html": [
              "\n",
              "  <div id=\"df-617f66fd-1309-42a7-acc8-0af60bc18c76\">\n",
              "    <div class=\"colab-df-container\">\n",
              "      <div>\n",
              "<style scoped>\n",
              "    .dataframe tbody tr th:only-of-type {\n",
              "        vertical-align: middle;\n",
              "    }\n",
              "\n",
              "    .dataframe tbody tr th {\n",
              "        vertical-align: top;\n",
              "    }\n",
              "\n",
              "    .dataframe thead th {\n",
              "        text-align: right;\n",
              "    }\n",
              "</style>\n",
              "<table border=\"1\" class=\"dataframe\">\n",
              "  <thead>\n",
              "    <tr style=\"text-align: right;\">\n",
              "      <th></th>\n",
              "      <th>Age</th>\n",
              "      <th>Sex</th>\n",
              "      <th>BP</th>\n",
              "      <th>Cholesterol</th>\n",
              "      <th>Na_to_K</th>\n",
              "      <th>Drug</th>\n",
              "    </tr>\n",
              "  </thead>\n",
              "  <tbody>\n",
              "    <tr>\n",
              "      <th>0</th>\n",
              "      <td>23</td>\n",
              "      <td>F</td>\n",
              "      <td>HIGH</td>\n",
              "      <td>HIGH</td>\n",
              "      <td>25.355</td>\n",
              "      <td>DrugY</td>\n",
              "    </tr>\n",
              "    <tr>\n",
              "      <th>1</th>\n",
              "      <td>47</td>\n",
              "      <td>M</td>\n",
              "      <td>LOW</td>\n",
              "      <td>HIGH</td>\n",
              "      <td>13.093</td>\n",
              "      <td>drugC</td>\n",
              "    </tr>\n",
              "    <tr>\n",
              "      <th>2</th>\n",
              "      <td>47</td>\n",
              "      <td>M</td>\n",
              "      <td>LOW</td>\n",
              "      <td>HIGH</td>\n",
              "      <td>10.114</td>\n",
              "      <td>drugC</td>\n",
              "    </tr>\n",
              "    <tr>\n",
              "      <th>3</th>\n",
              "      <td>28</td>\n",
              "      <td>F</td>\n",
              "      <td>NORMAL</td>\n",
              "      <td>HIGH</td>\n",
              "      <td>7.798</td>\n",
              "      <td>drugX</td>\n",
              "    </tr>\n",
              "    <tr>\n",
              "      <th>4</th>\n",
              "      <td>61</td>\n",
              "      <td>F</td>\n",
              "      <td>LOW</td>\n",
              "      <td>HIGH</td>\n",
              "      <td>18.043</td>\n",
              "      <td>DrugY</td>\n",
              "    </tr>\n",
              "  </tbody>\n",
              "</table>\n",
              "</div>\n",
              "      <button class=\"colab-df-convert\" onclick=\"convertToInteractive('df-617f66fd-1309-42a7-acc8-0af60bc18c76')\"\n",
              "              title=\"Convert this dataframe to an interactive table.\"\n",
              "              style=\"display:none;\">\n",
              "        \n",
              "  <svg xmlns=\"http://www.w3.org/2000/svg\" height=\"24px\"viewBox=\"0 0 24 24\"\n",
              "       width=\"24px\">\n",
              "    <path d=\"M0 0h24v24H0V0z\" fill=\"none\"/>\n",
              "    <path d=\"M18.56 5.44l.94 2.06.94-2.06 2.06-.94-2.06-.94-.94-2.06-.94 2.06-2.06.94zm-11 1L8.5 8.5l.94-2.06 2.06-.94-2.06-.94L8.5 2.5l-.94 2.06-2.06.94zm10 10l.94 2.06.94-2.06 2.06-.94-2.06-.94-.94-2.06-.94 2.06-2.06.94z\"/><path d=\"M17.41 7.96l-1.37-1.37c-.4-.4-.92-.59-1.43-.59-.52 0-1.04.2-1.43.59L10.3 9.45l-7.72 7.72c-.78.78-.78 2.05 0 2.83L4 21.41c.39.39.9.59 1.41.59.51 0 1.02-.2 1.41-.59l7.78-7.78 2.81-2.81c.8-.78.8-2.07 0-2.86zM5.41 20L4 18.59l7.72-7.72 1.47 1.35L5.41 20z\"/>\n",
              "  </svg>\n",
              "      </button>\n",
              "      \n",
              "  <style>\n",
              "    .colab-df-container {\n",
              "      display:flex;\n",
              "      flex-wrap:wrap;\n",
              "      gap: 12px;\n",
              "    }\n",
              "\n",
              "    .colab-df-convert {\n",
              "      background-color: #E8F0FE;\n",
              "      border: none;\n",
              "      border-radius: 50%;\n",
              "      cursor: pointer;\n",
              "      display: none;\n",
              "      fill: #1967D2;\n",
              "      height: 32px;\n",
              "      padding: 0 0 0 0;\n",
              "      width: 32px;\n",
              "    }\n",
              "\n",
              "    .colab-df-convert:hover {\n",
              "      background-color: #E2EBFA;\n",
              "      box-shadow: 0px 1px 2px rgba(60, 64, 67, 0.3), 0px 1px 3px 1px rgba(60, 64, 67, 0.15);\n",
              "      fill: #174EA6;\n",
              "    }\n",
              "\n",
              "    [theme=dark] .colab-df-convert {\n",
              "      background-color: #3B4455;\n",
              "      fill: #D2E3FC;\n",
              "    }\n",
              "\n",
              "    [theme=dark] .colab-df-convert:hover {\n",
              "      background-color: #434B5C;\n",
              "      box-shadow: 0px 1px 3px 1px rgba(0, 0, 0, 0.15);\n",
              "      filter: drop-shadow(0px 1px 2px rgba(0, 0, 0, 0.3));\n",
              "      fill: #FFFFFF;\n",
              "    }\n",
              "  </style>\n",
              "\n",
              "      <script>\n",
              "        const buttonEl =\n",
              "          document.querySelector('#df-617f66fd-1309-42a7-acc8-0af60bc18c76 button.colab-df-convert');\n",
              "        buttonEl.style.display =\n",
              "          google.colab.kernel.accessAllowed ? 'block' : 'none';\n",
              "\n",
              "        async function convertToInteractive(key) {\n",
              "          const element = document.querySelector('#df-617f66fd-1309-42a7-acc8-0af60bc18c76');\n",
              "          const dataTable =\n",
              "            await google.colab.kernel.invokeFunction('convertToInteractive',\n",
              "                                                     [key], {});\n",
              "          if (!dataTable) return;\n",
              "\n",
              "          const docLinkHtml = 'Like what you see? Visit the ' +\n",
              "            '<a target=\"_blank\" href=https://colab.research.google.com/notebooks/data_table.ipynb>data table notebook</a>'\n",
              "            + ' to learn more about interactive tables.';\n",
              "          element.innerHTML = '';\n",
              "          dataTable['output_type'] = 'display_data';\n",
              "          await google.colab.output.renderOutput(dataTable, element);\n",
              "          const docLink = document.createElement('div');\n",
              "          docLink.innerHTML = docLinkHtml;\n",
              "          element.appendChild(docLink);\n",
              "        }\n",
              "      </script>\n",
              "    </div>\n",
              "  </div>\n",
              "  "
            ]
          },
          "metadata": {},
          "execution_count": 3
        }
      ]
    },
    {
      "cell_type": "code",
      "source": [
        "df.tail()"
      ],
      "metadata": {
        "colab": {
          "base_uri": "https://localhost:8080/",
          "height": 206
        },
        "id": "i38a_gwUBh_8",
        "outputId": "fbda1037-90b6-4cc3-efbb-390aca30175f"
      },
      "execution_count": null,
      "outputs": [
        {
          "output_type": "execute_result",
          "data": {
            "text/plain": [
              "     Age Sex      BP Cholesterol  Na_to_K   Drug\n",
              "195   56   F     LOW        HIGH   11.567  drugC\n",
              "196   16   M     LOW        HIGH   12.006  drugC\n",
              "197   52   M  NORMAL        HIGH    9.894  drugX\n",
              "198   23   M  NORMAL      NORMAL   14.020  drugX\n",
              "199   40   F     LOW      NORMAL   11.349  drugX"
            ],
            "text/html": [
              "\n",
              "  <div id=\"df-760c293d-9bd8-4ed2-8dec-8f1e5ba7081a\">\n",
              "    <div class=\"colab-df-container\">\n",
              "      <div>\n",
              "<style scoped>\n",
              "    .dataframe tbody tr th:only-of-type {\n",
              "        vertical-align: middle;\n",
              "    }\n",
              "\n",
              "    .dataframe tbody tr th {\n",
              "        vertical-align: top;\n",
              "    }\n",
              "\n",
              "    .dataframe thead th {\n",
              "        text-align: right;\n",
              "    }\n",
              "</style>\n",
              "<table border=\"1\" class=\"dataframe\">\n",
              "  <thead>\n",
              "    <tr style=\"text-align: right;\">\n",
              "      <th></th>\n",
              "      <th>Age</th>\n",
              "      <th>Sex</th>\n",
              "      <th>BP</th>\n",
              "      <th>Cholesterol</th>\n",
              "      <th>Na_to_K</th>\n",
              "      <th>Drug</th>\n",
              "    </tr>\n",
              "  </thead>\n",
              "  <tbody>\n",
              "    <tr>\n",
              "      <th>195</th>\n",
              "      <td>56</td>\n",
              "      <td>F</td>\n",
              "      <td>LOW</td>\n",
              "      <td>HIGH</td>\n",
              "      <td>11.567</td>\n",
              "      <td>drugC</td>\n",
              "    </tr>\n",
              "    <tr>\n",
              "      <th>196</th>\n",
              "      <td>16</td>\n",
              "      <td>M</td>\n",
              "      <td>LOW</td>\n",
              "      <td>HIGH</td>\n",
              "      <td>12.006</td>\n",
              "      <td>drugC</td>\n",
              "    </tr>\n",
              "    <tr>\n",
              "      <th>197</th>\n",
              "      <td>52</td>\n",
              "      <td>M</td>\n",
              "      <td>NORMAL</td>\n",
              "      <td>HIGH</td>\n",
              "      <td>9.894</td>\n",
              "      <td>drugX</td>\n",
              "    </tr>\n",
              "    <tr>\n",
              "      <th>198</th>\n",
              "      <td>23</td>\n",
              "      <td>M</td>\n",
              "      <td>NORMAL</td>\n",
              "      <td>NORMAL</td>\n",
              "      <td>14.020</td>\n",
              "      <td>drugX</td>\n",
              "    </tr>\n",
              "    <tr>\n",
              "      <th>199</th>\n",
              "      <td>40</td>\n",
              "      <td>F</td>\n",
              "      <td>LOW</td>\n",
              "      <td>NORMAL</td>\n",
              "      <td>11.349</td>\n",
              "      <td>drugX</td>\n",
              "    </tr>\n",
              "  </tbody>\n",
              "</table>\n",
              "</div>\n",
              "      <button class=\"colab-df-convert\" onclick=\"convertToInteractive('df-760c293d-9bd8-4ed2-8dec-8f1e5ba7081a')\"\n",
              "              title=\"Convert this dataframe to an interactive table.\"\n",
              "              style=\"display:none;\">\n",
              "        \n",
              "  <svg xmlns=\"http://www.w3.org/2000/svg\" height=\"24px\"viewBox=\"0 0 24 24\"\n",
              "       width=\"24px\">\n",
              "    <path d=\"M0 0h24v24H0V0z\" fill=\"none\"/>\n",
              "    <path d=\"M18.56 5.44l.94 2.06.94-2.06 2.06-.94-2.06-.94-.94-2.06-.94 2.06-2.06.94zm-11 1L8.5 8.5l.94-2.06 2.06-.94-2.06-.94L8.5 2.5l-.94 2.06-2.06.94zm10 10l.94 2.06.94-2.06 2.06-.94-2.06-.94-.94-2.06-.94 2.06-2.06.94z\"/><path d=\"M17.41 7.96l-1.37-1.37c-.4-.4-.92-.59-1.43-.59-.52 0-1.04.2-1.43.59L10.3 9.45l-7.72 7.72c-.78.78-.78 2.05 0 2.83L4 21.41c.39.39.9.59 1.41.59.51 0 1.02-.2 1.41-.59l7.78-7.78 2.81-2.81c.8-.78.8-2.07 0-2.86zM5.41 20L4 18.59l7.72-7.72 1.47 1.35L5.41 20z\"/>\n",
              "  </svg>\n",
              "      </button>\n",
              "      \n",
              "  <style>\n",
              "    .colab-df-container {\n",
              "      display:flex;\n",
              "      flex-wrap:wrap;\n",
              "      gap: 12px;\n",
              "    }\n",
              "\n",
              "    .colab-df-convert {\n",
              "      background-color: #E8F0FE;\n",
              "      border: none;\n",
              "      border-radius: 50%;\n",
              "      cursor: pointer;\n",
              "      display: none;\n",
              "      fill: #1967D2;\n",
              "      height: 32px;\n",
              "      padding: 0 0 0 0;\n",
              "      width: 32px;\n",
              "    }\n",
              "\n",
              "    .colab-df-convert:hover {\n",
              "      background-color: #E2EBFA;\n",
              "      box-shadow: 0px 1px 2px rgba(60, 64, 67, 0.3), 0px 1px 3px 1px rgba(60, 64, 67, 0.15);\n",
              "      fill: #174EA6;\n",
              "    }\n",
              "\n",
              "    [theme=dark] .colab-df-convert {\n",
              "      background-color: #3B4455;\n",
              "      fill: #D2E3FC;\n",
              "    }\n",
              "\n",
              "    [theme=dark] .colab-df-convert:hover {\n",
              "      background-color: #434B5C;\n",
              "      box-shadow: 0px 1px 3px 1px rgba(0, 0, 0, 0.15);\n",
              "      filter: drop-shadow(0px 1px 2px rgba(0, 0, 0, 0.3));\n",
              "      fill: #FFFFFF;\n",
              "    }\n",
              "  </style>\n",
              "\n",
              "      <script>\n",
              "        const buttonEl =\n",
              "          document.querySelector('#df-760c293d-9bd8-4ed2-8dec-8f1e5ba7081a button.colab-df-convert');\n",
              "        buttonEl.style.display =\n",
              "          google.colab.kernel.accessAllowed ? 'block' : 'none';\n",
              "\n",
              "        async function convertToInteractive(key) {\n",
              "          const element = document.querySelector('#df-760c293d-9bd8-4ed2-8dec-8f1e5ba7081a');\n",
              "          const dataTable =\n",
              "            await google.colab.kernel.invokeFunction('convertToInteractive',\n",
              "                                                     [key], {});\n",
              "          if (!dataTable) return;\n",
              "\n",
              "          const docLinkHtml = 'Like what you see? Visit the ' +\n",
              "            '<a target=\"_blank\" href=https://colab.research.google.com/notebooks/data_table.ipynb>data table notebook</a>'\n",
              "            + ' to learn more about interactive tables.';\n",
              "          element.innerHTML = '';\n",
              "          dataTable['output_type'] = 'display_data';\n",
              "          await google.colab.output.renderOutput(dataTable, element);\n",
              "          const docLink = document.createElement('div');\n",
              "          docLink.innerHTML = docLinkHtml;\n",
              "          element.appendChild(docLink);\n",
              "        }\n",
              "      </script>\n",
              "    </div>\n",
              "  </div>\n",
              "  "
            ]
          },
          "metadata": {},
          "execution_count": 4
        }
      ]
    },
    {
      "cell_type": "markdown",
      "source": [
        "The head() and tail() function for dataframe shows the top 5 rows and last 5 row. This helps us to understand what kind of data is stored in our dataframe.\n",
        "\n",
        "- here we can see that data is in the numeric format for age column and Na_to_K column.\n",
        "- we can see that gender, BP, Cholestrol and Drug are all object type column.\n",
        "\n",
        "Now we shall cross-varify it with the help of info() where it gives us 6 insights in total where datattypes is one of them."
      ],
      "metadata": {
        "id": "KmYWUcIk4f8j"
      }
    },
    {
      "cell_type": "code",
      "source": [
        "df.info()"
      ],
      "metadata": {
        "colab": {
          "base_uri": "https://localhost:8080/"
        },
        "id": "K6MSVey24Jn3",
        "outputId": "2518ddf3-8c62-42c4-fa0e-14578da7ca21"
      },
      "execution_count": null,
      "outputs": [
        {
          "output_type": "stream",
          "name": "stdout",
          "text": [
            "<class 'pandas.core.frame.DataFrame'>\n",
            "RangeIndex: 200 entries, 0 to 199\n",
            "Data columns (total 6 columns):\n",
            " #   Column       Non-Null Count  Dtype  \n",
            "---  ------       --------------  -----  \n",
            " 0   Age          200 non-null    int64  \n",
            " 1   Sex          200 non-null    object \n",
            " 2   BP           200 non-null    object \n",
            " 3   Cholesterol  200 non-null    object \n",
            " 4   Na_to_K      200 non-null    float64\n",
            " 5   Drug         200 non-null    object \n",
            "dtypes: float64(1), int64(1), object(4)\n",
            "memory usage: 9.5+ KB\n"
          ]
        }
      ]
    },
    {
      "cell_type": "markdown",
      "source": [
        "In the above df.info() we can get mainly 6 insights\n",
        "\n",
        "- we can see that we have 200 rows in total which is very little compared to other datasets we would use.\n",
        "- the index in my data ranges from 0 to 199\n",
        "- we can see the number of columns that is 6\n",
        "- we can see the list of all the columns present in our dataset\n",
        "- we can see all the datatypes a column is associated with\n",
        "- we can also see if all columns are full or we have any null values.\n",
        "- In this case we can see that there are no null values"
      ],
      "metadata": {
        "id": "BQrJyVF15DlG"
      }
    },
    {
      "cell_type": "markdown",
      "source": [
        "Here we can see that as discussed above:\n",
        "- age and Na_to_K are both numeric columns\n",
        "- gender, BP, Cholestrol and Drug are all object type colum"
      ],
      "metadata": {
        "id": "OxxAXo_g6Qoz"
      }
    },
    {
      "cell_type": "code",
      "source": [
        "df.isnull().sum()"
      ],
      "metadata": {
        "colab": {
          "base_uri": "https://localhost:8080/"
        },
        "id": "kOJZTBoVBm_S",
        "outputId": "4740ef8e-cdfa-4922-9f78-e2d8245c0439"
      },
      "execution_count": null,
      "outputs": [
        {
          "output_type": "execute_result",
          "data": {
            "text/plain": [
              "Age            0\n",
              "Sex            0\n",
              "BP             0\n",
              "Cholesterol    0\n",
              "Na_to_K        0\n",
              "Drug           0\n",
              "dtype: int64"
            ]
          },
          "metadata": {},
          "execution_count": 6
        }
      ]
    },
    {
      "cell_type": "markdown",
      "source": [
        "Here we do not have any null values as a resut of which we do not have to worry about them.\n",
        "- If there were any null values we could handle them with the help of central tendancy (mean,median,mode) where mean and median is for numeric data nad mode is for object type data."
      ],
      "metadata": {
        "id": "EEyNYB_f6jIY"
      }
    },
    {
      "cell_type": "code",
      "source": [
        "# Check for missing values in the DataFrame\n",
        "missing_values = df.isin(['?', '/', '']).any().any()\n",
        "missing_values\n",
        "# The variable `missing_values` will be True if there are any missing values in the DataFrame, and False otherwise.\n"
      ],
      "metadata": {
        "colab": {
          "base_uri": "https://localhost:8080/"
        },
        "id": "8q4or-O9Boud",
        "outputId": "548f8937-50ed-454f-8ba7-297cce872ace"
      },
      "execution_count": null,
      "outputs": [
        {
          "output_type": "execute_result",
          "data": {
            "text/plain": [
              "False"
            ]
          },
          "metadata": {},
          "execution_count": 7
        }
      ]
    },
    {
      "cell_type": "markdown",
      "source": [
        "isin() is a function which checks if a certain given pattern is present in the dataset or not.\n",
        "- Sometimes in the data we tend to have special symbold included instead of values.\n",
        "  - when this happens we need to convert them to null values or any required value and handle them accordingly.\n",
        "\n",
        "- Here we are getting the answer as false which indicates that there are no such values."
      ],
      "metadata": {
        "id": "DIz70Yda66yy"
      }
    },
    {
      "cell_type": "markdown",
      "source": [
        "Here False indicates we do not have any miscellaneous\n",
        " values"
      ],
      "metadata": {
        "id": "f6EWAJKFPE2k"
      }
    },
    {
      "cell_type": "code",
      "source": [
        "# Replace empty strings, question marks, and slashes with NaN\n",
        "df.replace([' ', '?', '/'], np.nan, inplace=True)\n",
        "\n",
        "# Check the count of missing values in each column\n",
        "#missing_counts = df.isnull().sum()\n",
        "\n",
        "# The variable `missing_counts` contains the count of missing values in each column of the DataFrame.\n",
        "# Get column names and data types\n",
        "columns = df.columns.tolist()\n",
        "data_types = df.dtypes.tolist()\n",
        "\n",
        "# Get the number of null values in each column\n",
        "null_counts = df.isnull().sum().tolist()\n",
        "\n",
        "# Create a dictionary with the data\n",
        "data = {\n",
        "    'Column': columns,\n",
        "    'Data Type': data_types,\n",
        "    'Null Count': null_counts\n",
        "}\n",
        "\n",
        "# Create a DataFrame from the dictionary\n",
        "table = pd.DataFrame(data)\n",
        "\n",
        "table"
      ],
      "metadata": {
        "colab": {
          "base_uri": "https://localhost:8080/",
          "height": 237
        },
        "id": "U7YQKdL9Brn1",
        "outputId": "3b148873-75c6-4063-e3d4-da050a1e7676"
      },
      "execution_count": null,
      "outputs": [
        {
          "output_type": "execute_result",
          "data": {
            "text/plain": [
              "        Column Data Type  Null Count\n",
              "0          Age     int64           0\n",
              "1          Sex    object           0\n",
              "2           BP    object           0\n",
              "3  Cholesterol    object           0\n",
              "4      Na_to_K   float64           0\n",
              "5         Drug    object           0"
            ],
            "text/html": [
              "\n",
              "  <div id=\"df-c5fea238-6e25-4688-930c-e62640bce88a\">\n",
              "    <div class=\"colab-df-container\">\n",
              "      <div>\n",
              "<style scoped>\n",
              "    .dataframe tbody tr th:only-of-type {\n",
              "        vertical-align: middle;\n",
              "    }\n",
              "\n",
              "    .dataframe tbody tr th {\n",
              "        vertical-align: top;\n",
              "    }\n",
              "\n",
              "    .dataframe thead th {\n",
              "        text-align: right;\n",
              "    }\n",
              "</style>\n",
              "<table border=\"1\" class=\"dataframe\">\n",
              "  <thead>\n",
              "    <tr style=\"text-align: right;\">\n",
              "      <th></th>\n",
              "      <th>Column</th>\n",
              "      <th>Data Type</th>\n",
              "      <th>Null Count</th>\n",
              "    </tr>\n",
              "  </thead>\n",
              "  <tbody>\n",
              "    <tr>\n",
              "      <th>0</th>\n",
              "      <td>Age</td>\n",
              "      <td>int64</td>\n",
              "      <td>0</td>\n",
              "    </tr>\n",
              "    <tr>\n",
              "      <th>1</th>\n",
              "      <td>Sex</td>\n",
              "      <td>object</td>\n",
              "      <td>0</td>\n",
              "    </tr>\n",
              "    <tr>\n",
              "      <th>2</th>\n",
              "      <td>BP</td>\n",
              "      <td>object</td>\n",
              "      <td>0</td>\n",
              "    </tr>\n",
              "    <tr>\n",
              "      <th>3</th>\n",
              "      <td>Cholesterol</td>\n",
              "      <td>object</td>\n",
              "      <td>0</td>\n",
              "    </tr>\n",
              "    <tr>\n",
              "      <th>4</th>\n",
              "      <td>Na_to_K</td>\n",
              "      <td>float64</td>\n",
              "      <td>0</td>\n",
              "    </tr>\n",
              "    <tr>\n",
              "      <th>5</th>\n",
              "      <td>Drug</td>\n",
              "      <td>object</td>\n",
              "      <td>0</td>\n",
              "    </tr>\n",
              "  </tbody>\n",
              "</table>\n",
              "</div>\n",
              "      <button class=\"colab-df-convert\" onclick=\"convertToInteractive('df-c5fea238-6e25-4688-930c-e62640bce88a')\"\n",
              "              title=\"Convert this dataframe to an interactive table.\"\n",
              "              style=\"display:none;\">\n",
              "        \n",
              "  <svg xmlns=\"http://www.w3.org/2000/svg\" height=\"24px\"viewBox=\"0 0 24 24\"\n",
              "       width=\"24px\">\n",
              "    <path d=\"M0 0h24v24H0V0z\" fill=\"none\"/>\n",
              "    <path d=\"M18.56 5.44l.94 2.06.94-2.06 2.06-.94-2.06-.94-.94-2.06-.94 2.06-2.06.94zm-11 1L8.5 8.5l.94-2.06 2.06-.94-2.06-.94L8.5 2.5l-.94 2.06-2.06.94zm10 10l.94 2.06.94-2.06 2.06-.94-2.06-.94-.94-2.06-.94 2.06-2.06.94z\"/><path d=\"M17.41 7.96l-1.37-1.37c-.4-.4-.92-.59-1.43-.59-.52 0-1.04.2-1.43.59L10.3 9.45l-7.72 7.72c-.78.78-.78 2.05 0 2.83L4 21.41c.39.39.9.59 1.41.59.51 0 1.02-.2 1.41-.59l7.78-7.78 2.81-2.81c.8-.78.8-2.07 0-2.86zM5.41 20L4 18.59l7.72-7.72 1.47 1.35L5.41 20z\"/>\n",
              "  </svg>\n",
              "      </button>\n",
              "      \n",
              "  <style>\n",
              "    .colab-df-container {\n",
              "      display:flex;\n",
              "      flex-wrap:wrap;\n",
              "      gap: 12px;\n",
              "    }\n",
              "\n",
              "    .colab-df-convert {\n",
              "      background-color: #E8F0FE;\n",
              "      border: none;\n",
              "      border-radius: 50%;\n",
              "      cursor: pointer;\n",
              "      display: none;\n",
              "      fill: #1967D2;\n",
              "      height: 32px;\n",
              "      padding: 0 0 0 0;\n",
              "      width: 32px;\n",
              "    }\n",
              "\n",
              "    .colab-df-convert:hover {\n",
              "      background-color: #E2EBFA;\n",
              "      box-shadow: 0px 1px 2px rgba(60, 64, 67, 0.3), 0px 1px 3px 1px rgba(60, 64, 67, 0.15);\n",
              "      fill: #174EA6;\n",
              "    }\n",
              "\n",
              "    [theme=dark] .colab-df-convert {\n",
              "      background-color: #3B4455;\n",
              "      fill: #D2E3FC;\n",
              "    }\n",
              "\n",
              "    [theme=dark] .colab-df-convert:hover {\n",
              "      background-color: #434B5C;\n",
              "      box-shadow: 0px 1px 3px 1px rgba(0, 0, 0, 0.15);\n",
              "      filter: drop-shadow(0px 1px 2px rgba(0, 0, 0, 0.3));\n",
              "      fill: #FFFFFF;\n",
              "    }\n",
              "  </style>\n",
              "\n",
              "      <script>\n",
              "        const buttonEl =\n",
              "          document.querySelector('#df-c5fea238-6e25-4688-930c-e62640bce88a button.colab-df-convert');\n",
              "        buttonEl.style.display =\n",
              "          google.colab.kernel.accessAllowed ? 'block' : 'none';\n",
              "\n",
              "        async function convertToInteractive(key) {\n",
              "          const element = document.querySelector('#df-c5fea238-6e25-4688-930c-e62640bce88a');\n",
              "          const dataTable =\n",
              "            await google.colab.kernel.invokeFunction('convertToInteractive',\n",
              "                                                     [key], {});\n",
              "          if (!dataTable) return;\n",
              "\n",
              "          const docLinkHtml = 'Like what you see? Visit the ' +\n",
              "            '<a target=\"_blank\" href=https://colab.research.google.com/notebooks/data_table.ipynb>data table notebook</a>'\n",
              "            + ' to learn more about interactive tables.';\n",
              "          element.innerHTML = '';\n",
              "          dataTable['output_type'] = 'display_data';\n",
              "          await google.colab.output.renderOutput(dataTable, element);\n",
              "          const docLink = document.createElement('div');\n",
              "          docLink.innerHTML = docLinkHtml;\n",
              "          element.appendChild(docLink);\n",
              "        }\n",
              "      </script>\n",
              "    </div>\n",
              "  </div>\n",
              "  "
            ]
          },
          "metadata": {},
          "execution_count": 8
        }
      ]
    },
    {
      "cell_type": "markdown",
      "source": [
        "We are examining the data for the presence of any special symbols and replacing them with null values if found. As observed, there are no such values in the data. Then we are trying to display the null value count, datatypes of the columns and the column names all together in the form of a table to make it easy to understand."
      ],
      "metadata": {
        "id": "_YIsbIBGUIzp"
      }
    },
    {
      "cell_type": "markdown",
      "source": [
        "Showing to verify if there are any values present in the dataset - hence the above step is optional\n"
      ],
      "metadata": {
        "id": "Nz0fS8y3UA-D"
      }
    },
    {
      "cell_type": "markdown",
      "source": [
        "----"
      ],
      "metadata": {
        "id": "U-WSRYIm71z0"
      }
    },
    {
      "cell_type": "markdown",
      "source": [
        "### Outlier analysis"
      ],
      "metadata": {
        "id": "O6mEA1Pz8UQQ"
      }
    },
    {
      "cell_type": "markdown",
      "source": [
        "Outliers are data points that significantly differ from the majority of the data, lying far away from the typical range and can potentially skew statistical analysis and machine learning models."
      ],
      "metadata": {
        "id": "GoBMFxE68SaG"
      }
    },
    {
      "cell_type": "markdown",
      "source": [
        "Sometimes handling outliers is a good idea but not always.\n",
        "- here if we see our data is too small to handle outliers.\n",
        "- when outliers are handled we usually lose some data which in our case would be a disadvantage."
      ],
      "metadata": {
        "id": "RaDv629B8SXt"
      }
    },
    {
      "cell_type": "code",
      "source": [
        "# Create a table to store outlier information\n",
        "outlier_table = pd.DataFrame(columns=['Columns', 'Data Type', 'Has Outliers'])\n",
        "\n",
        "# Iterate through each column\n",
        "for column in df.columns:\n",
        "    data_type = df[column].dtype  # Get the data type of the column\n",
        "\n",
        "    if data_type in ['int64', 'float64']:  # Check numerical columns\n",
        "        # Calculate the 1.5 IQR (Interquartile Range)\n",
        "        q1 = df[column].quantile(0.25)\n",
        "        q3 = df[column].quantile(0.75)\n",
        "        iqr = q3 - q1\n",
        "        outlier_range = 1.5 * iqr\n",
        "\n",
        "        # Check for outliers\n",
        "        lower_bound = q1 - outlier_range\n",
        "        upper_bound = q3 + outlier_range\n",
        "        has_outliers = any((df[column] < lower_bound) | (df[column] > upper_bound))\n",
        "\n",
        "        # Count the number of outliers\n",
        "        num_outliers = df[(df[column] < lower_bound) | (df[column] > upper_bound)].shape[0]\n",
        "\n",
        "        # Calculate the percentage of outliers\n",
        "        percentage_outliers = (num_outliers / df.shape[0]) * 100\n",
        "        print(f\"The percentage of outliers in the \",column,\" column is: \",percentage_outliers,\" \\n\")\n",
        "\n",
        "\n",
        "        # Add information to the outlier table\n",
        "        outlier_table = pd.concat(\n",
        "            [outlier_table, pd.DataFrame({\n",
        "                'Column': [column],\n",
        "                'Data Type': [data_type],\n",
        "                'Has Outliers': [has_outliers]\n",
        "            })], ignore_index=True\n",
        "        )\n",
        "\n",
        "        # Plot box plot to visualize outliers\n",
        "        plt.figure()\n",
        "        df.boxplot(column=column)\n",
        "        plt.title(f'Box Plot - {column}')\n",
        "        plt.ylabel(column)\n",
        "\n",
        "# Cast the data type of the \"Has Outliers\" column to bool\n",
        "outlier_table['Has Outliers'] = outlier_table['Has Outliers'].astype(bool)\n",
        "\n",
        "# Print the outlier table\n",
        "outlier_table\n"
      ],
      "metadata": {
        "colab": {
          "base_uri": "https://localhost:8080/",
          "height": 1000
        },
        "id": "upadKXvXBwGe",
        "outputId": "426c00d0-9800-4e96-846e-5b8e2227aafb"
      },
      "execution_count": null,
      "outputs": [
        {
          "output_type": "stream",
          "name": "stdout",
          "text": [
            "The percentage of outliers in the  Age  column is:  0.0  \n",
            "\n",
            "The percentage of outliers in the  Na_to_K  column is:  4.0  \n",
            "\n"
          ]
        },
        {
          "output_type": "stream",
          "name": "stderr",
          "text": [
            "<ipython-input-9-69d31f2c25a7>:29: FutureWarning: In a future version, object-dtype columns with all-bool values will not be included in reductions with bool_only=True. Explicitly cast to bool dtype instead.\n",
            "  outlier_table = pd.concat(\n"
          ]
        },
        {
          "output_type": "execute_result",
          "data": {
            "text/plain": [
              "  Columns Data Type  Has Outliers   Column\n",
              "0     NaN     int64         False      Age\n",
              "1     NaN   float64          True  Na_to_K"
            ],
            "text/html": [
              "\n",
              "  <div id=\"df-df8881e4-fde7-49e0-b0ae-ff2479d28916\">\n",
              "    <div class=\"colab-df-container\">\n",
              "      <div>\n",
              "<style scoped>\n",
              "    .dataframe tbody tr th:only-of-type {\n",
              "        vertical-align: middle;\n",
              "    }\n",
              "\n",
              "    .dataframe tbody tr th {\n",
              "        vertical-align: top;\n",
              "    }\n",
              "\n",
              "    .dataframe thead th {\n",
              "        text-align: right;\n",
              "    }\n",
              "</style>\n",
              "<table border=\"1\" class=\"dataframe\">\n",
              "  <thead>\n",
              "    <tr style=\"text-align: right;\">\n",
              "      <th></th>\n",
              "      <th>Columns</th>\n",
              "      <th>Data Type</th>\n",
              "      <th>Has Outliers</th>\n",
              "      <th>Column</th>\n",
              "    </tr>\n",
              "  </thead>\n",
              "  <tbody>\n",
              "    <tr>\n",
              "      <th>0</th>\n",
              "      <td>NaN</td>\n",
              "      <td>int64</td>\n",
              "      <td>False</td>\n",
              "      <td>Age</td>\n",
              "    </tr>\n",
              "    <tr>\n",
              "      <th>1</th>\n",
              "      <td>NaN</td>\n",
              "      <td>float64</td>\n",
              "      <td>True</td>\n",
              "      <td>Na_to_K</td>\n",
              "    </tr>\n",
              "  </tbody>\n",
              "</table>\n",
              "</div>\n",
              "      <button class=\"colab-df-convert\" onclick=\"convertToInteractive('df-df8881e4-fde7-49e0-b0ae-ff2479d28916')\"\n",
              "              title=\"Convert this dataframe to an interactive table.\"\n",
              "              style=\"display:none;\">\n",
              "        \n",
              "  <svg xmlns=\"http://www.w3.org/2000/svg\" height=\"24px\"viewBox=\"0 0 24 24\"\n",
              "       width=\"24px\">\n",
              "    <path d=\"M0 0h24v24H0V0z\" fill=\"none\"/>\n",
              "    <path d=\"M18.56 5.44l.94 2.06.94-2.06 2.06-.94-2.06-.94-.94-2.06-.94 2.06-2.06.94zm-11 1L8.5 8.5l.94-2.06 2.06-.94-2.06-.94L8.5 2.5l-.94 2.06-2.06.94zm10 10l.94 2.06.94-2.06 2.06-.94-2.06-.94-.94-2.06-.94 2.06-2.06.94z\"/><path d=\"M17.41 7.96l-1.37-1.37c-.4-.4-.92-.59-1.43-.59-.52 0-1.04.2-1.43.59L10.3 9.45l-7.72 7.72c-.78.78-.78 2.05 0 2.83L4 21.41c.39.39.9.59 1.41.59.51 0 1.02-.2 1.41-.59l7.78-7.78 2.81-2.81c.8-.78.8-2.07 0-2.86zM5.41 20L4 18.59l7.72-7.72 1.47 1.35L5.41 20z\"/>\n",
              "  </svg>\n",
              "      </button>\n",
              "      \n",
              "  <style>\n",
              "    .colab-df-container {\n",
              "      display:flex;\n",
              "      flex-wrap:wrap;\n",
              "      gap: 12px;\n",
              "    }\n",
              "\n",
              "    .colab-df-convert {\n",
              "      background-color: #E8F0FE;\n",
              "      border: none;\n",
              "      border-radius: 50%;\n",
              "      cursor: pointer;\n",
              "      display: none;\n",
              "      fill: #1967D2;\n",
              "      height: 32px;\n",
              "      padding: 0 0 0 0;\n",
              "      width: 32px;\n",
              "    }\n",
              "\n",
              "    .colab-df-convert:hover {\n",
              "      background-color: #E2EBFA;\n",
              "      box-shadow: 0px 1px 2px rgba(60, 64, 67, 0.3), 0px 1px 3px 1px rgba(60, 64, 67, 0.15);\n",
              "      fill: #174EA6;\n",
              "    }\n",
              "\n",
              "    [theme=dark] .colab-df-convert {\n",
              "      background-color: #3B4455;\n",
              "      fill: #D2E3FC;\n",
              "    }\n",
              "\n",
              "    [theme=dark] .colab-df-convert:hover {\n",
              "      background-color: #434B5C;\n",
              "      box-shadow: 0px 1px 3px 1px rgba(0, 0, 0, 0.15);\n",
              "      filter: drop-shadow(0px 1px 2px rgba(0, 0, 0, 0.3));\n",
              "      fill: #FFFFFF;\n",
              "    }\n",
              "  </style>\n",
              "\n",
              "      <script>\n",
              "        const buttonEl =\n",
              "          document.querySelector('#df-df8881e4-fde7-49e0-b0ae-ff2479d28916 button.colab-df-convert');\n",
              "        buttonEl.style.display =\n",
              "          google.colab.kernel.accessAllowed ? 'block' : 'none';\n",
              "\n",
              "        async function convertToInteractive(key) {\n",
              "          const element = document.querySelector('#df-df8881e4-fde7-49e0-b0ae-ff2479d28916');\n",
              "          const dataTable =\n",
              "            await google.colab.kernel.invokeFunction('convertToInteractive',\n",
              "                                                     [key], {});\n",
              "          if (!dataTable) return;\n",
              "\n",
              "          const docLinkHtml = 'Like what you see? Visit the ' +\n",
              "            '<a target=\"_blank\" href=https://colab.research.google.com/notebooks/data_table.ipynb>data table notebook</a>'\n",
              "            + ' to learn more about interactive tables.';\n",
              "          element.innerHTML = '';\n",
              "          dataTable['output_type'] = 'display_data';\n",
              "          await google.colab.output.renderOutput(dataTable, element);\n",
              "          const docLink = document.createElement('div');\n",
              "          docLink.innerHTML = docLinkHtml;\n",
              "          element.appendChild(docLink);\n",
              "        }\n",
              "      </script>\n",
              "    </div>\n",
              "  </div>\n",
              "  "
            ]
          },
          "metadata": {},
          "execution_count": 9
        },
        {
          "output_type": "display_data",
          "data": {
            "text/plain": [
              "<Figure size 640x480 with 1 Axes>"
            ],
            "image/png": "[encoded data removed]"
          },
          "metadata": {}
        },
        {
          "output_type": "display_data",
          "data": {
            "text/plain": [
              "<Figure size 640x480 with 1 Axes>"
            ],
            "image/png": "[encoded data removed]"
          },
          "metadata": {}
        }
      ]
    },
    {
      "cell_type": "markdown",
      "source": [
        "This is what we can analyse brom the above output:\n",
        "\n",
        "- first of all the percentage of outliers\n",
        "  - we can see here that age column has 0% of outliers\n",
        "  - na-to-k has 4% of outliers which we would generally handle if our data was large.\n",
        "\n",
        "- second a table that confirms with a True and False if the column has null value\n",
        "\n",
        "- thirs of all it shows the outliers with the help of box plots."
      ],
      "metadata": {
        "id": "i9AVUeab881e"
      }
    },
    {
      "cell_type": "markdown",
      "source": [
        "Here we shall not handle our outliers but if we wish to then we can do so with the IQR method where,\n",
        "\n",
        "- get values of Q3 ans Q1 to calculate IQR value\n",
        "  - IQR = Q3-Q1\n",
        "\n",
        "- get the values of upper limit and lower limit to determing what would be the limit values to consider for outliers.\n",
        "  - upper limit = Q3+1.5*IQR\n",
        "  - lower limit = Q1-1.5*IQR"
      ],
      "metadata": {
        "id": "0Tr3sEGmAKdp"
      }
    },
    {
      "cell_type": "code",
      "source": [
        "# Create a figure with subplots\n",
        "fig, axes = plt.subplots(1, 2, figsize=(12, 6))\n",
        "\n",
        "# Plot distribution of 'Na_to_K' column\n",
        "sns.histplot(df['Na_to_K'], kde=True, ax=axes[0])\n",
        "axes[0].set_title('Distribution Plot - Na_to_K')\n",
        "axes[0].set_xlabel('Na_to_K')\n",
        "axes[0].set_ylabel('Frequency')\n",
        "\n",
        "# Plot distribution of 'Age' column\n",
        "sns.histplot(df['Age'], kde=True, ax=axes[1])\n",
        "axes[1].set_title('Distribution Plot - Age')\n",
        "axes[1].set_xlabel('Age')\n",
        "axes[1].set_ylabel('Frequency')\n",
        "\n",
        "# Adjust the spacing between subplots\n",
        "plt.tight_layout()\n",
        "\n",
        "# Display the plots\n",
        "plt.show()\n"
      ],
      "metadata": {
        "colab": {
          "base_uri": "https://localhost:8080/",
          "height": 592
        },
        "id": "I61tT2QbBzOR",
        "outputId": "8a55492f-3ab2-4243-b4ac-892cf28ab584"
      },
      "execution_count": null,
      "outputs": [
        {
          "output_type": "display_data",
          "data": {
            "text/plain": [
              "<Figure size 1200x600 with 2 Axes>"
            ],
            "image/png": "[encoded data removed]"
          },
          "metadata": {}
        }
      ]
    },
    {
      "cell_type": "markdown",
      "source": [
        "insights for age:\n",
        "- here we can see the data is not normally distributed\n",
        "- Here we can see that our dataset contains more people with age between 20-30 and 35-40."
      ],
      "metadata": {
        "id": "rG28dyUwWyw3"
      }
    },
    {
      "cell_type": "markdown",
      "source": [
        "insights for Na_to_K:\n",
        "- the data is right skewed\n",
        "- we can collect here that na_to_k level mostly falls at the range of approximatly 7 to 15.\n"
      ],
      "metadata": {
        "id": "i1ZDPr3kXU3j"
      }
    },
    {
      "cell_type": "markdown",
      "source": [
        "## Data Engineering"
      ],
      "metadata": {
        "id": "d-5FXAkQX0Bf"
      }
    },
    {
      "cell_type": "markdown",
      "source": [
        "\n",
        "- Data engineering ensures data quality and reliability for accurate analysis and decision-making.\n",
        "- It enables efficient storage, processing, and integration of large volumes of data.\n",
        "- Data engineering facilitates data transformation and preparation for analysis and reporting.\n",
        "- It ensures data security and compliance with regulations and privacy policies.\n",
        "- Data engineering forms the foundation for successful data-driven initiatives and maximizes the value of data assets."
      ],
      "metadata": {
        "id": "bNJ7-X7UYFL5"
      }
    },
    {
      "cell_type": "code",
      "source": [
        "dataframe_int = df.copy()\n",
        "#Creating a copy of the original dataframe for further processing and transformations."
      ],
      "metadata": {
        "id": "ktUtI7A2D6Ug"
      },
      "execution_count": null,
      "outputs": []
    },
    {
      "cell_type": "code",
      "source": [
        "from sklearn.preprocessing import LabelEncoder"
      ],
      "metadata": {
        "id": "JUd16r0QDoy-"
      },
      "execution_count": null,
      "outputs": []
    },
    {
      "cell_type": "markdown",
      "source": [
        "\n",
        "Label encoding is a technique that assigns a unique numerical label to each category in a categorical variable, enabling machine learning algorithms to process and analyze the data."
      ],
      "metadata": {
        "id": "oTZvKmC6YxlP"
      }
    },
    {
      "cell_type": "code",
      "source": [
        "encoder = LabelEncoder()\n",
        "# creating an object for LabelEncoder()"
      ],
      "metadata": {
        "id": "MC6Kxi3tDssz"
      },
      "execution_count": null,
      "outputs": []
    },
    {
      "cell_type": "markdown",
      "source": [
        "Here we can see that 'Sex','BP','Cholesterol'and 'Drug' are object type columns. We also know that by converting them into numberic type we will be able to perform more operations on them. Hence below we are extracting all the object type columns in specific and converting them into numeric by LabelEncoding.\n",
        "\n",
        "We generally have 3 encoding techniques :\n",
        "\n",
        "- Label Encoding\n",
        "- One Hot Encoding\n",
        "- Dummy Encoding\n",
        "\n",
        "\n",
        "but here we are using Label Encoding"
      ],
      "metadata": {
        "id": "Dn-LqEI-BgCg"
      }
    },
    {
      "cell_type": "code",
      "source": [
        "categorical_data = ['Sex','BP','Cholesterol','Drug']\n",
        "# collecting all categorical columns to perform label encoding"
      ],
      "metadata": {
        "id": "pwo7xRe5DuoG"
      },
      "execution_count": null,
      "outputs": []
    },
    {
      "cell_type": "code",
      "source": [
        "for col in categorical_data:\n",
        "    dataframe_int[col] = encoder.fit_transform(df[col])\n",
        "#Encoding the categorical columns in the dataframe using the LabelEncoder from scikit-learn."
      ],
      "metadata": {
        "id": "HxXog-ShDxLV"
      },
      "execution_count": null,
      "outputs": []
    },
    {
      "cell_type": "code",
      "source": [
        "dataframe_int.head()"
      ],
      "metadata": {
        "colab": {
          "base_uri": "https://localhost:8080/",
          "height": 206
        },
        "id": "vv0qdy2zEDJh",
        "outputId": "55c7e496-0708-4bbe-a3fa-1f7f7f0ad04e"
      },
      "execution_count": null,
      "outputs": [
        {
          "output_type": "execute_result",
          "data": {
            "text/plain": [
              "   Age  Sex  BP  Cholesterol  Na_to_K  Drug\n",
              "0   23    0   0            0   25.355     0\n",
              "1   47    1   1            0   13.093     3\n",
              "2   47    1   1            0   10.114     3\n",
              "3   28    0   2            0    7.798     4\n",
              "4   61    0   1            0   18.043     0"
            ],
            "text/html": [
              "\n",
              "  <div id=\"df-f41919b0-4afd-4cea-9530-c8268e04a113\">\n",
              "    <div class=\"colab-df-container\">\n",
              "      <div>\n",
              "<style scoped>\n",
              "    .dataframe tbody tr th:only-of-type {\n",
              "        vertical-align: middle;\n",
              "    }\n",
              "\n",
              "    .dataframe tbody tr th {\n",
              "        vertical-align: top;\n",
              "    }\n",
              "\n",
              "    .dataframe thead th {\n",
              "        text-align: right;\n",
              "    }\n",
              "</style>\n",
              "<table border=\"1\" class=\"dataframe\">\n",
              "  <thead>\n",
              "    <tr style=\"text-align: right;\">\n",
              "      <th></th>\n",
              "      <th>Age</th>\n",
              "      <th>Sex</th>\n",
              "      <th>BP</th>\n",
              "      <th>Cholesterol</th>\n",
              "      <th>Na_to_K</th>\n",
              "      <th>Drug</th>\n",
              "    </tr>\n",
              "  </thead>\n",
              "  <tbody>\n",
              "    <tr>\n",
              "      <th>0</th>\n",
              "      <td>23</td>\n",
              "      <td>0</td>\n",
              "      <td>0</td>\n",
              "      <td>0</td>\n",
              "      <td>25.355</td>\n",
              "      <td>0</td>\n",
              "    </tr>\n",
              "    <tr>\n",
              "      <th>1</th>\n",
              "      <td>47</td>\n",
              "      <td>1</td>\n",
              "      <td>1</td>\n",
              "      <td>0</td>\n",
              "      <td>13.093</td>\n",
              "      <td>3</td>\n",
              "    </tr>\n",
              "    <tr>\n",
              "      <th>2</th>\n",
              "      <td>47</td>\n",
              "      <td>1</td>\n",
              "      <td>1</td>\n",
              "      <td>0</td>\n",
              "      <td>10.114</td>\n",
              "      <td>3</td>\n",
              "    </tr>\n",
              "    <tr>\n",
              "      <th>3</th>\n",
              "      <td>28</td>\n",
              "      <td>0</td>\n",
              "      <td>2</td>\n",
              "      <td>0</td>\n",
              "      <td>7.798</td>\n",
              "      <td>4</td>\n",
              "    </tr>\n",
              "    <tr>\n",
              "      <th>4</th>\n",
              "      <td>61</td>\n",
              "      <td>0</td>\n",
              "      <td>1</td>\n",
              "      <td>0</td>\n",
              "      <td>18.043</td>\n",
              "      <td>0</td>\n",
              "    </tr>\n",
              "  </tbody>\n",
              "</table>\n",
              "</div>\n",
              "      <button class=\"colab-df-convert\" onclick=\"convertToInteractive('df-f41919b0-4afd-4cea-9530-c8268e04a113')\"\n",
              "              title=\"Convert this dataframe to an interactive table.\"\n",
              "              style=\"display:none;\">\n",
              "        \n",
              "  <svg xmlns=\"http://www.w3.org/2000/svg\" height=\"24px\"viewBox=\"0 0 24 24\"\n",
              "       width=\"24px\">\n",
              "    <path d=\"M0 0h24v24H0V0z\" fill=\"none\"/>\n",
              "    <path d=\"M18.56 5.44l.94 2.06.94-2.06 2.06-.94-2.06-.94-.94-2.06-.94 2.06-2.06.94zm-11 1L8.5 8.5l.94-2.06 2.06-.94-2.06-.94L8.5 2.5l-.94 2.06-2.06.94zm10 10l.94 2.06.94-2.06 2.06-.94-2.06-.94-.94-2.06-.94 2.06-2.06.94z\"/><path d=\"M17.41 7.96l-1.37-1.37c-.4-.4-.92-.59-1.43-.59-.52 0-1.04.2-1.43.59L10.3 9.45l-7.72 7.72c-.78.78-.78 2.05 0 2.83L4 21.41c.39.39.9.59 1.41.59.51 0 1.02-.2 1.41-.59l7.78-7.78 2.81-2.81c.8-.78.8-2.07 0-2.86zM5.41 20L4 18.59l7.72-7.72 1.47 1.35L5.41 20z\"/>\n",
              "  </svg>\n",
              "      </button>\n",
              "      \n",
              "  <style>\n",
              "    .colab-df-container {\n",
              "      display:flex;\n",
              "      flex-wrap:wrap;\n",
              "      gap: 12px;\n",
              "    }\n",
              "\n",
              "    .colab-df-convert {\n",
              "      background-color: #E8F0FE;\n",
              "      border: none;\n",
              "      border-radius: 50%;\n",
              "      cursor: pointer;\n",
              "      display: none;\n",
              "      fill: #1967D2;\n",
              "      height: 32px;\n",
              "      padding: 0 0 0 0;\n",
              "      width: 32px;\n",
              "    }\n",
              "\n",
              "    .colab-df-convert:hover {\n",
              "      background-color: #E2EBFA;\n",
              "      box-shadow: 0px 1px 2px rgba(60, 64, 67, 0.3), 0px 1px 3px 1px rgba(60, 64, 67, 0.15);\n",
              "      fill: #174EA6;\n",
              "    }\n",
              "\n",
              "    [theme=dark] .colab-df-convert {\n",
              "      background-color: #3B4455;\n",
              "      fill: #D2E3FC;\n",
              "    }\n",
              "\n",
              "    [theme=dark] .colab-df-convert:hover {\n",
              "      background-color: #434B5C;\n",
              "      box-shadow: 0px 1px 3px 1px rgba(0, 0, 0, 0.15);\n",
              "      filter: drop-shadow(0px 1px 2px rgba(0, 0, 0, 0.3));\n",
              "      fill: #FFFFFF;\n",
              "    }\n",
              "  </style>\n",
              "\n",
              "      <script>\n",
              "        const buttonEl =\n",
              "          document.querySelector('#df-f41919b0-4afd-4cea-9530-c8268e04a113 button.colab-df-convert');\n",
              "        buttonEl.style.display =\n",
              "          google.colab.kernel.accessAllowed ? 'block' : 'none';\n",
              "\n",
              "        async function convertToInteractive(key) {\n",
              "          const element = document.querySelector('#df-f41919b0-4afd-4cea-9530-c8268e04a113');\n",
              "          const dataTable =\n",
              "            await google.colab.kernel.invokeFunction('convertToInteractive',\n",
              "                                                     [key], {});\n",
              "          if (!dataTable) return;\n",
              "\n",
              "          const docLinkHtml = 'Like what you see? Visit the ' +\n",
              "            '<a target=\"_blank\" href=https://colab.research.google.com/notebooks/data_table.ipynb>data table notebook</a>'\n",
              "            + ' to learn more about interactive tables.';\n",
              "          element.innerHTML = '';\n",
              "          dataTable['output_type'] = 'display_data';\n",
              "          await google.colab.output.renderOutput(dataTable, element);\n",
              "          const docLink = document.createElement('div');\n",
              "          docLink.innerHTML = docLinkHtml;\n",
              "          element.appendChild(docLink);\n",
              "        }\n",
              "      </script>\n",
              "    </div>\n",
              "  </div>\n",
              "  "
            ]
          },
          "metadata": {},
          "execution_count": 16
        }
      ]
    },
    {
      "cell_type": "code",
      "source": [
        "for col in categorical_data:\n",
        "    print(col,dataframe_int[col].unique())\n",
        "#Printing the unique values of each categorical column in the dataframe."
      ],
      "metadata": {
        "colab": {
          "base_uri": "https://localhost:8080/"
        },
        "id": "JPqwzMfFEFnV",
        "outputId": "00f96c50-2b4a-4965-9ae5-1600da25f23d"
      },
      "execution_count": null,
      "outputs": [
        {
          "output_type": "stream",
          "name": "stdout",
          "text": [
            "Sex [0 1]\n",
            "BP [0 1 2]\n",
            "Cholesterol [0 1]\n",
            "Drug [0 3 4 1 2]\n"
          ]
        }
      ]
    },
    {
      "cell_type": "code",
      "source": [
        "for col in categorical_data:\n",
        "    print(col,df[col].unique())"
      ],
      "metadata": {
        "colab": {
          "base_uri": "https://localhost:8080/"
        },
        "id": "K3rBCbBtEOOz",
        "outputId": "7a469dd6-ffe4-4639-b0ee-038dfbd398f4"
      },
      "execution_count": null,
      "outputs": [
        {
          "output_type": "stream",
          "name": "stdout",
          "text": [
            "Sex ['F' 'M']\n",
            "BP ['HIGH' 'LOW' 'NORMAL']\n",
            "Cholesterol ['HIGH' 'NORMAL']\n",
            "Drug ['DrugY' 'drugC' 'drugX' 'drugA' 'drugB']\n"
          ]
        }
      ]
    },
    {
      "cell_type": "markdown",
      "source": [
        "here we can see that the object type data is encoded into a numeric type afetr label encoding.\n",
        "\n",
        "- We have displayed and compared the same where in gender column 0=Female, 1=Male.\n",
        "- in BP column High=0, Low=1, Normal=2\n",
        "- in Cholestrol High=0, Normal=1\n",
        "- in Drug, drugy=0,drugc=1, drugx=2, druga=3,drugb=4"
      ],
      "metadata": {
        "id": "hCkDvPnDZQev"
      }
    },
    {
      "cell_type": "code",
      "source": [
        "dataframe_int.corr()"
      ],
      "metadata": {
        "colab": {
          "base_uri": "https://localhost:8080/",
          "height": 237
        },
        "id": "Ff_vdrPuEZiM",
        "outputId": "619ec84b-3a5a-46ec-cf36-ef5145b917f5"
      },
      "execution_count": null,
      "outputs": [
        {
          "output_type": "execute_result",
          "data": {
            "text/plain": [
              "                  Age       Sex        BP  Cholesterol   Na_to_K      Drug\n",
              "Age          1.000000  0.102027  0.054212    -0.068234 -0.063119  0.041856\n",
              "Sex          0.102027  1.000000 -0.007814    -0.008811 -0.125008  0.018239\n",
              "BP           0.054212 -0.007814  1.000000    -0.137552 -0.149312  0.419397\n",
              "Cholesterol -0.068234 -0.008811 -0.137552     1.000000  0.010000  0.048415\n",
              "Na_to_K     -0.063119 -0.125008 -0.149312     0.010000  1.000000 -0.689051\n",
              "Drug         0.041856  0.018239  0.419397     0.048415 -0.689051  1.000000"
            ],
            "text/html": [
              "\n",
              "  <div id=\"df-7c04fba5-24d3-4558-8183-22ec42b10042\">\n",
              "    <div class=\"colab-df-container\">\n",
              "      <div>\n",
              "<style scoped>\n",
              "    .dataframe tbody tr th:only-of-type {\n",
              "        vertical-align: middle;\n",
              "    }\n",
              "\n",
              "    .dataframe tbody tr th {\n",
              "        vertical-align: top;\n",
              "    }\n",
              "\n",
              "    .dataframe thead th {\n",
              "        text-align: right;\n",
              "    }\n",
              "</style>\n",
              "<table border=\"1\" class=\"dataframe\">\n",
              "  <thead>\n",
              "    <tr style=\"text-align: right;\">\n",
              "      <th></th>\n",
              "      <th>Age</th>\n",
              "      <th>Sex</th>\n",
              "      <th>BP</th>\n",
              "      <th>Cholesterol</th>\n",
              "      <th>Na_to_K</th>\n",
              "      <th>Drug</th>\n",
              "    </tr>\n",
              "  </thead>\n",
              "  <tbody>\n",
              "    <tr>\n",
              "      <th>Age</th>\n",
              "      <td>1.000000</td>\n",
              "      <td>0.102027</td>\n",
              "      <td>0.054212</td>\n",
              "      <td>-0.068234</td>\n",
              "      <td>-0.063119</td>\n",
              "      <td>0.041856</td>\n",
              "    </tr>\n",
              "    <tr>\n",
              "      <th>Sex</th>\n",
              "      <td>0.102027</td>\n",
              "      <td>1.000000</td>\n",
              "      <td>-0.007814</td>\n",
              "      <td>-0.008811</td>\n",
              "      <td>-0.125008</td>\n",
              "      <td>0.018239</td>\n",
              "    </tr>\n",
              "    <tr>\n",
              "      <th>BP</th>\n",
              "      <td>0.054212</td>\n",
              "      <td>-0.007814</td>\n",
              "      <td>1.000000</td>\n",
              "      <td>-0.137552</td>\n",
              "      <td>-0.149312</td>\n",
              "      <td>0.419397</td>\n",
              "    </tr>\n",
              "    <tr>\n",
              "      <th>Cholesterol</th>\n",
              "      <td>-0.068234</td>\n",
              "      <td>-0.008811</td>\n",
              "      <td>-0.137552</td>\n",
              "      <td>1.000000</td>\n",
              "      <td>0.010000</td>\n",
              "      <td>0.048415</td>\n",
              "    </tr>\n",
              "    <tr>\n",
              "      <th>Na_to_K</th>\n",
              "      <td>-0.063119</td>\n",
              "      <td>-0.125008</td>\n",
              "      <td>-0.149312</td>\n",
              "      <td>0.010000</td>\n",
              "      <td>1.000000</td>\n",
              "      <td>-0.689051</td>\n",
              "    </tr>\n",
              "    <tr>\n",
              "      <th>Drug</th>\n",
              "      <td>0.041856</td>\n",
              "      <td>0.018239</td>\n",
              "      <td>0.419397</td>\n",
              "      <td>0.048415</td>\n",
              "      <td>-0.689051</td>\n",
              "      <td>1.000000</td>\n",
              "    </tr>\n",
              "  </tbody>\n",
              "</table>\n",
              "</div>\n",
              "      <button class=\"colab-df-convert\" onclick=\"convertToInteractive('df-7c04fba5-24d3-4558-8183-22ec42b10042')\"\n",
              "              title=\"Convert this dataframe to an interactive table.\"\n",
              "              style=\"display:none;\">\n",
              "        \n",
              "  <svg xmlns=\"http://www.w3.org/2000/svg\" height=\"24px\"viewBox=\"0 0 24 24\"\n",
              "       width=\"24px\">\n",
              "    <path d=\"M0 0h24v24H0V0z\" fill=\"none\"/>\n",
              "    <path d=\"M18.56 5.44l.94 2.06.94-2.06 2.06-.94-2.06-.94-.94-2.06-.94 2.06-2.06.94zm-11 1L8.5 8.5l.94-2.06 2.06-.94-2.06-.94L8.5 2.5l-.94 2.06-2.06.94zm10 10l.94 2.06.94-2.06 2.06-.94-2.06-.94-.94-2.06-.94 2.06-2.06.94z\"/><path d=\"M17.41 7.96l-1.37-1.37c-.4-.4-.92-.59-1.43-.59-.52 0-1.04.2-1.43.59L10.3 9.45l-7.72 7.72c-.78.78-.78 2.05 0 2.83L4 21.41c.39.39.9.59 1.41.59.51 0 1.02-.2 1.41-.59l7.78-7.78 2.81-2.81c.8-.78.8-2.07 0-2.86zM5.41 20L4 18.59l7.72-7.72 1.47 1.35L5.41 20z\"/>\n",
              "  </svg>\n",
              "      </button>\n",
              "      \n",
              "  <style>\n",
              "    .colab-df-container {\n",
              "      display:flex;\n",
              "      flex-wrap:wrap;\n",
              "      gap: 12px;\n",
              "    }\n",
              "\n",
              "    .colab-df-convert {\n",
              "      background-color: #E8F0FE;\n",
              "      border: none;\n",
              "      border-radius: 50%;\n",
              "      cursor: pointer;\n",
              "      display: none;\n",
              "      fill: #1967D2;\n",
              "      height: 32px;\n",
              "      padding: 0 0 0 0;\n",
              "      width: 32px;\n",
              "    }\n",
              "\n",
              "    .colab-df-convert:hover {\n",
              "      background-color: #E2EBFA;\n",
              "      box-shadow: 0px 1px 2px rgba(60, 64, 67, 0.3), 0px 1px 3px 1px rgba(60, 64, 67, 0.15);\n",
              "      fill: #174EA6;\n",
              "    }\n",
              "\n",
              "    [theme=dark] .colab-df-convert {\n",
              "      background-color: #3B4455;\n",
              "      fill: #D2E3FC;\n",
              "    }\n",
              "\n",
              "    [theme=dark] .colab-df-convert:hover {\n",
              "      background-color: #434B5C;\n",
              "      box-shadow: 0px 1px 3px 1px rgba(0, 0, 0, 0.15);\n",
              "      filter: drop-shadow(0px 1px 2px rgba(0, 0, 0, 0.3));\n",
              "      fill: #FFFFFF;\n",
              "    }\n",
              "  </style>\n",
              "\n",
              "      <script>\n",
              "        const buttonEl =\n",
              "          document.querySelector('#df-7c04fba5-24d3-4558-8183-22ec42b10042 button.colab-df-convert');\n",
              "        buttonEl.style.display =\n",
              "          google.colab.kernel.accessAllowed ? 'block' : 'none';\n",
              "\n",
              "        async function convertToInteractive(key) {\n",
              "          const element = document.querySelector('#df-7c04fba5-24d3-4558-8183-22ec42b10042');\n",
              "          const dataTable =\n",
              "            await google.colab.kernel.invokeFunction('convertToInteractive',\n",
              "                                                     [key], {});\n",
              "          if (!dataTable) return;\n",
              "\n",
              "          const docLinkHtml = 'Like what you see? Visit the ' +\n",
              "            '<a target=\"_blank\" href=https://colab.research.google.com/notebooks/data_table.ipynb>data table notebook</a>'\n",
              "            + ' to learn more about interactive tables.';\n",
              "          element.innerHTML = '';\n",
              "          dataTable['output_type'] = 'display_data';\n",
              "          await google.colab.output.renderOutput(dataTable, element);\n",
              "          const docLink = document.createElement('div');\n",
              "          docLink.innerHTML = docLinkHtml;\n",
              "          element.appendChild(docLink);\n",
              "        }\n",
              "      </script>\n",
              "    </div>\n",
              "  </div>\n",
              "  "
            ]
          },
          "metadata": {},
          "execution_count": 19
        }
      ]
    },
    {
      "cell_type": "code",
      "source": [
        "plt.figure(figsize=(10,8))\n",
        "plt.title('Matrix Korelasi Data')\n",
        "sns.heatmap(dataframe_int.corr(),annot=True,linewidths=3)\n",
        "plt.show()\n",
        "plt.savefig('Matrix Korelasi Data')\n",
        "#Plotting the correlation matrix of the dataframe to visualize the relationships between variables."
      ],
      "metadata": {
        "colab": {
          "base_uri": "https://localhost:8080/",
          "height": 716
        },
        "id": "EJnqqjPUEhKh",
        "outputId": "578ceeec-1e40-49e1-807a-f82345ee7e2e"
      },
      "execution_count": null,
      "outputs": [
        {
          "output_type": "display_data",
          "data": {
            "text/plain": [
              "<Figure size 1000x800 with 2 Axes>"
            ],
            "image/png": "[encoded data removed]"
          },
          "metadata": {}
        },
        {
          "output_type": "display_data",
          "data": {
            "text/plain": [
              "<Figure size 640x480 with 0 Axes>"
            ]
          },
          "metadata": {}
        }
      ]
    },
    {
      "cell_type": "markdown",
      "source": [
        "from the above matrix we can see that the\n",
        "- target column Drug has very bad co-relation with Na_to_K column with -0.69(negetive)\n",
        "- and the best co-relation with BP column with 0.42 as the corelation(positive)\n",
        "\n"
      ],
      "metadata": {
        "id": "at68pVGeZeFy"
      }
    },
    {
      "cell_type": "code",
      "source": [
        "def distribusi():\n",
        "    fig,axes = plt.subplots(nrows=2,ncols=3,figsize=(12,8))\n",
        "    plt.suptitle('Distribusi',fontsize=24)\n",
        "\n",
        "    def col_generator():\n",
        "      #  # Generator function to iterate through dataframe columns\n",
        "        for col in dataframe_int:\n",
        "            yield col\n",
        "    col = col_generator()\n",
        "\n",
        "    for i in range(0,2):\n",
        "        for j in range(0,3):\n",
        "            k = next(col)\n",
        "            dataframe_int[k].plot(kind='hist',ax=axes[i,j])\n",
        "            axes[i,j].set_title(k)\n",
        "            #Save and display the plot\n",
        "    plt.savefig('Distribusi Data.png')\n",
        "    plt.show()"
      ],
      "metadata": {
        "id": "sUAJI_74ElXC"
      },
      "execution_count": null,
      "outputs": []
    },
    {
      "cell_type": "code",
      "source": [
        "distribusi()"
      ],
      "metadata": {
        "colab": {
          "base_uri": "https://localhost:8080/",
          "height": 756
        },
        "id": "0CcBY82REste",
        "outputId": "bb2e0c4f-e67d-4e82-8d74-0b9e24f0e558"
      },
      "execution_count": null,
      "outputs": [
        {
          "output_type": "display_data",
          "data": {
            "text/plain": [
              "<Figure size 1200x800 with 6 Axes>"
            ],
            "image/png": "[encoded data removed]"
          },
          "metadata": {}
        }
      ]
    },
    {
      "cell_type": "markdown",
      "source": [
        "the above subplots show the distribution of all the columns in the data.\n",
        "\n",
        "- insights for age:\n",
        "\n",
        "here we can see the data is not normally distributed.\n",
        "Here we can see that our dataset contains more people with age between 20-30 and 35-40.\n",
        "\n",
        "- insights for Na_to_K:\n",
        "\n",
        "the data is right skewed.\n",
        "we can collect here that na_to_k level mostly falls at the range of approximatly 7 to 15.\n",
        "\n",
        "- insights for cholestrol:\n",
        "\n",
        "we can see that more number of people do not have high cholestrol.\n",
        "\n",
        "- insights for Drug:\n",
        "\n",
        "we can see that Drug 0  is used more in quantity rather than others. The second highest used drug would be drug 4"
      ],
      "metadata": {
        "id": "61JuFZUzacM0"
      }
    },
    {
      "cell_type": "code",
      "source": [
        "data = dataframe_int.drop('Drug',axis=1)\n",
        "label = dataframe_int['Drug']"
      ],
      "metadata": {
        "id": "_xY-rXn6E0xk"
      },
      "execution_count": null,
      "outputs": []
    },
    {
      "cell_type": "code",
      "source": [
        "from sklearn.model_selection import train_test_split"
      ],
      "metadata": {
        "id": "wTJNNErZE8a4"
      },
      "execution_count": null,
      "outputs": []
    },
    {
      "cell_type": "code",
      "source": [
        "x_train, x_test, y_train, y_test = train_test_split(data,label,test_size=0.2)"
      ],
      "metadata": {
        "id": "VgAz34X4E-fg"
      },
      "execution_count": null,
      "outputs": []
    },
    {
      "cell_type": "code",
      "source": [
        "from sklearn.svm import SVC"
      ],
      "metadata": {
        "id": "quQ5TCHfFAF8"
      },
      "execution_count": null,
      "outputs": []
    },
    {
      "cell_type": "code",
      "source": [
        "model = SVC(gamma='scale')\n",
        "#Create an instance of the SVC model with default parameters"
      ],
      "metadata": {
        "id": "mJYDwHJAFC7C"
      },
      "execution_count": null,
      "outputs": []
    },
    {
      "cell_type": "markdown",
      "source": [
        "- The choice between 'auto' and 'scale' for the gamma parameter in SVM depends on the characteristics of your dataset and the specific problem you are trying to solve.\n",
        "\n",
        "- In general, 'scale' is often considered a safer and more reliable option. It automatically scales the gamma value based on the standard deviation of the input data, which helps in adapting to different datasets. This scaling can prevent issues related to uneven feature scales and can provide a balanced influence of individual training samples on the decision boundary.\n",
        "\n",
        "- On the other hand, 'auto' calculates gamma based on the inverse of the variance of the input data. This strategy can work well when the features have similar scales, but it may not handle datasets with highly varying scales as effectively as 'scale'.\n",
        "\n",
        "- Ultimately, it is recommended to try both 'auto' and 'scale' on your specific dataset and evaluate their impact on the performance of your SVM model. This empirical comparison will help you determine which option yields better results for your particular problem.\n",
        "\n",
        "\n",
        "\n",
        "\n"
      ],
      "metadata": {
        "id": "xZ9YC5JtfZGr"
      }
    },
    {
      "cell_type": "code",
      "source": [
        "model.fit(x_train,y_train)"
      ],
      "metadata": {
        "colab": {
          "base_uri": "https://localhost:8080/",
          "height": 74
        },
        "id": "fiCKMsJ3FEs8",
        "outputId": "7f408724-655e-4a61-f22d-1dacc037155a"
      },
      "execution_count": null,
      "outputs": [
        {
          "output_type": "execute_result",
          "data": {
            "text/plain": [
              "SVC()"
            ],
            "text/html": [
              "<style>#sk-container-id-1 {color: black;background-color: white;}#sk-container-id-1 pre{padding: 0;}#sk-container-id-1 div.sk-toggleable {background-color: white;}#sk-container-id-1 label.sk-toggleable__label {cursor: pointer;display: block;width: 100%;margin-bottom: 0;padding: 0.3em;box-sizing: border-box;text-align: center;}#sk-container-id-1 label.sk-toggleable__label-arrow:before {content: \"▸\";float: left;margin-right: 0.25em;color: #696969;}#sk-container-id-1 label.sk-toggleable__label-arrow:hover:before {color: black;}#sk-container-id-1 div.sk-estimator:hover label.sk-toggleable__label-arrow:before {color: black;}#sk-container-id-1 div.sk-toggleable__content {max-height: 0;max-width: 0;overflow: hidden;text-align: left;background-color: #f0f8ff;}#sk-container-id-1 div.sk-toggleable__content pre {margin: 0.2em;color: black;border-radius: 0.25em;background-color: #f0f8ff;}#sk-container-id-1 input.sk-toggleable__control:checked~div.sk-toggleable__content {max-height: 200px;max-width: 100%;overflow: auto;}#sk-container-id-1 input.sk-toggleable__control:checked~label.sk-toggleable__label-arrow:before {content: \"▾\";}#sk-container-id-1 div.sk-estimator input.sk-toggleable__control:checked~label.sk-toggleable__label {background-color: #d4ebff;}#sk-container-id-1 div.sk-label input.sk-toggleable__control:checked~label.sk-toggleable__label {background-color: #d4ebff;}#sk-container-id-1 input.sk-hidden--visually {border: 0;clip: rect(1px 1px 1px 1px);clip: rect(1px, 1px, 1px, 1px);height: 1px;margin: -1px;overflow: hidden;padding: 0;position: absolute;width: 1px;}#sk-container-id-1 div.sk-estimator {font-family: monospace;background-color: #f0f8ff;border: 1px dotted black;border-radius: 0.25em;box-sizing: border-box;margin-bottom: 0.5em;}#sk-container-id-1 div.sk-estimator:hover {background-color: #d4ebff;}#sk-container-id-1 div.sk-parallel-item::after {content: \"\";width: 100%;border-bottom: 1px solid gray;flex-grow: 1;}#sk-container-id-1 div.sk-label:hover label.sk-toggleable__label {background-color: #d4ebff;}#sk-container-id-1 div.sk-serial::before {content: \"\";position: absolute;border-left: 1px solid gray;box-sizing: border-box;top: 0;bottom: 0;left: 50%;z-index: 0;}#sk-container-id-1 div.sk-serial {display: flex;flex-direction: column;align-items: center;background-color: white;padding-right: 0.2em;padding-left: 0.2em;position: relative;}#sk-container-id-1 div.sk-item {position: relative;z-index: 1;}#sk-container-id-1 div.sk-parallel {display: flex;align-items: stretch;justify-content: center;background-color: white;position: relative;}#sk-container-id-1 div.sk-item::before, #sk-container-id-1 div.sk-parallel-item::before {content: \"\";position: absolute;border-left: 1px solid gray;box-sizing: border-box;top: 0;bottom: 0;left: 50%;z-index: -1;}#sk-container-id-1 div.sk-parallel-item {display: flex;flex-direction: column;z-index: 1;position: relative;background-color: white;}#sk-container-id-1 div.sk-parallel-item:first-child::after {align-self: flex-end;width: 50%;}#sk-container-id-1 div.sk-parallel-item:last-child::after {align-self: flex-start;width: 50%;}#sk-container-id-1 div.sk-parallel-item:only-child::after {width: 0;}#sk-container-id-1 div.sk-dashed-wrapped {border: 1px dashed gray;margin: 0 0.4em 0.5em 0.4em;box-sizing: border-box;padding-bottom: 0.4em;background-color: white;}#sk-container-id-1 div.sk-label label {font-family: monospace;font-weight: bold;display: inline-block;line-height: 1.2em;}#sk-container-id-1 div.sk-label-container {text-align: center;}#sk-container-id-1 div.sk-container {/* jupyter's `normalize.less` sets `[hidden] { display: none; }` but bootstrap.min.css set `[hidden] { display: none !important; }` so we also need the `!important` here to be able to override the default hidden behavior on the sphinx rendered scikit-learn.org. See: https://github.com/scikit-learn/scikit-learn/issues/21755 */display: inline-block !important;position: relative;}#sk-container-id-1 div.sk-text-repr-fallback {display: none;}</style><div id=\"sk-container-id-1\" class=\"sk-top-container\"><div class=\"sk-text-repr-fallback\"><pre>SVC()</pre><b>In a Jupyter environment, please rerun this cell to show the HTML representation or trust the notebook. <br />On GitHub, the HTML representation is unable to render, please try loading this page with nbviewer.org.</b></div><div class=\"sk-container\" hidden><div class=\"sk-item\"><div class=\"sk-estimator sk-toggleable\"><input class=\"sk-toggleable__control sk-hidden--visually\" id=\"sk-estimator-id-1\" type=\"checkbox\" checked><label for=\"sk-estimator-id-1\" class=\"sk-toggleable__label sk-toggleable__label-arrow\">SVC</label><div class=\"sk-toggleable__content\"><pre>SVC()</pre></div></div></div></div></div>"
            ]
          },
          "metadata": {},
          "execution_count": 28
        }
      ]
    },
    {
      "cell_type": "code",
      "source": [
        "x_train"
      ],
      "metadata": {
        "colab": {
          "base_uri": "https://localhost:8080/",
          "height": 423
        },
        "id": "9N7-tDIIrd3q",
        "outputId": "b5a31e10-f834-49c6-ead8-c47fec7f85cb"
      },
      "execution_count": null,
      "outputs": [
        {
          "output_type": "execute_result",
          "data": {
            "text/plain": [
              "     Age  Sex  BP  Cholesterol  Na_to_K\n",
              "68    54    1   2            0   24.658\n",
              "85    59    1   0            0   13.935\n",
              "21    63    1   2            0   25.917\n",
              "42    50    1   2            1   15.790\n",
              "147   26    0   0            1   12.307\n",
              "..   ...  ...  ..          ...      ...\n",
              "34    53    1   2            0   14.133\n",
              "76    36    0   0            0   11.198\n",
              "195   56    0   1            0   11.567\n",
              "114   20    0   2            1    9.281\n",
              "14    50    0   2            0   12.703\n",
              "\n",
              "[160 rows x 5 columns]"
            ],
            "text/html": [
              "\n",
              "  <div id=\"df-1935c017-76e4-40eb-b6a8-f65f1ab90c58\">\n",
              "    <div class=\"colab-df-container\">\n",
              "      <div>\n",
              "<style scoped>\n",
              "    .dataframe tbody tr th:only-of-type {\n",
              "        vertical-align: middle;\n",
              "    }\n",
              "\n",
              "    .dataframe tbody tr th {\n",
              "        vertical-align: top;\n",
              "    }\n",
              "\n",
              "    .dataframe thead th {\n",
              "        text-align: right;\n",
              "    }\n",
              "</style>\n",
              "<table border=\"1\" class=\"dataframe\">\n",
              "  <thead>\n",
              "    <tr style=\"text-align: right;\">\n",
              "      <th></th>\n",
              "      <th>Age</th>\n",
              "      <th>Sex</th>\n",
              "      <th>BP</th>\n",
              "      <th>Cholesterol</th>\n",
              "      <th>Na_to_K</th>\n",
              "    </tr>\n",
              "  </thead>\n",
              "  <tbody>\n",
              "    <tr>\n",
              "      <th>68</th>\n",
              "      <td>54</td>\n",
              "      <td>1</td>\n",
              "      <td>2</td>\n",
              "      <td>0</td>\n",
              "      <td>24.658</td>\n",
              "    </tr>\n",
              "    <tr>\n",
              "      <th>85</th>\n",
              "      <td>59</td>\n",
              "      <td>1</td>\n",
              "      <td>0</td>\n",
              "      <td>0</td>\n",
              "      <td>13.935</td>\n",
              "    </tr>\n",
              "    <tr>\n",
              "      <th>21</th>\n",
              "      <td>63</td>\n",
              "      <td>1</td>\n",
              "      <td>2</td>\n",
              "      <td>0</td>\n",
              "      <td>25.917</td>\n",
              "    </tr>\n",
              "    <tr>\n",
              "      <th>42</th>\n",
              "      <td>50</td>\n",
              "      <td>1</td>\n",
              "      <td>2</td>\n",
              "      <td>1</td>\n",
              "      <td>15.790</td>\n",
              "    </tr>\n",
              "    <tr>\n",
              "      <th>147</th>\n",
              "      <td>26</td>\n",
              "      <td>0</td>\n",
              "      <td>0</td>\n",
              "      <td>1</td>\n",
              "      <td>12.307</td>\n",
              "    </tr>\n",
              "    <tr>\n",
              "      <th>...</th>\n",
              "      <td>...</td>\n",
              "      <td>...</td>\n",
              "      <td>...</td>\n",
              "      <td>...</td>\n",
              "      <td>...</td>\n",
              "    </tr>\n",
              "    <tr>\n",
              "      <th>34</th>\n",
              "      <td>53</td>\n",
              "      <td>1</td>\n",
              "      <td>2</td>\n",
              "      <td>0</td>\n",
              "      <td>14.133</td>\n",
              "    </tr>\n",
              "    <tr>\n",
              "      <th>76</th>\n",
              "      <td>36</td>\n",
              "      <td>0</td>\n",
              "      <td>0</td>\n",
              "      <td>0</td>\n",
              "      <td>11.198</td>\n",
              "    </tr>\n",
              "    <tr>\n",
              "      <th>195</th>\n",
              "      <td>56</td>\n",
              "      <td>0</td>\n",
              "      <td>1</td>\n",
              "      <td>0</td>\n",
              "      <td>11.567</td>\n",
              "    </tr>\n",
              "    <tr>\n",
              "      <th>114</th>\n",
              "      <td>20</td>\n",
              "      <td>0</td>\n",
              "      <td>2</td>\n",
              "      <td>1</td>\n",
              "      <td>9.281</td>\n",
              "    </tr>\n",
              "    <tr>\n",
              "      <th>14</th>\n",
              "      <td>50</td>\n",
              "      <td>0</td>\n",
              "      <td>2</td>\n",
              "      <td>0</td>\n",
              "      <td>12.703</td>\n",
              "    </tr>\n",
              "  </tbody>\n",
              "</table>\n",
              "<p>160 rows × 5 columns</p>\n",
              "</div>\n",
              "      <button class=\"colab-df-convert\" onclick=\"convertToInteractive('df-1935c017-76e4-40eb-b6a8-f65f1ab90c58')\"\n",
              "              title=\"Convert this dataframe to an interactive table.\"\n",
              "              style=\"display:none;\">\n",
              "        \n",
              "  <svg xmlns=\"http://www.w3.org/2000/svg\" height=\"24px\"viewBox=\"0 0 24 24\"\n",
              "       width=\"24px\">\n",
              "    <path d=\"M0 0h24v24H0V0z\" fill=\"none\"/>\n",
              "    <path d=\"M18.56 5.44l.94 2.06.94-2.06 2.06-.94-2.06-.94-.94-2.06-.94 2.06-2.06.94zm-11 1L8.5 8.5l.94-2.06 2.06-.94-2.06-.94L8.5 2.5l-.94 2.06-2.06.94zm10 10l.94 2.06.94-2.06 2.06-.94-2.06-.94-.94-2.06-.94 2.06-2.06.94z\"/><path d=\"M17.41 7.96l-1.37-1.37c-.4-.4-.92-.59-1.43-.59-.52 0-1.04.2-1.43.59L10.3 9.45l-7.72 7.72c-.78.78-.78 2.05 0 2.83L4 21.41c.39.39.9.59 1.41.59.51 0 1.02-.2 1.41-.59l7.78-7.78 2.81-2.81c.8-.78.8-2.07 0-2.86zM5.41 20L4 18.59l7.72-7.72 1.47 1.35L5.41 20z\"/>\n",
              "  </svg>\n",
              "      </button>\n",
              "      \n",
              "  <style>\n",
              "    .colab-df-container {\n",
              "      display:flex;\n",
              "      flex-wrap:wrap;\n",
              "      gap: 12px;\n",
              "    }\n",
              "\n",
              "    .colab-df-convert {\n",
              "      background-color: #E8F0FE;\n",
              "      border: none;\n",
              "      border-radius: 50%;\n",
              "      cursor: pointer;\n",
              "      display: none;\n",
              "      fill: #1967D2;\n",
              "      height: 32px;\n",
              "      padding: 0 0 0 0;\n",
              "      width: 32px;\n",
              "    }\n",
              "\n",
              "    .colab-df-convert:hover {\n",
              "      background-color: #E2EBFA;\n",
              "      box-shadow: 0px 1px 2px rgba(60, 64, 67, 0.3), 0px 1px 3px 1px rgba(60, 64, 67, 0.15);\n",
              "      fill: #174EA6;\n",
              "    }\n",
              "\n",
              "    [theme=dark] .colab-df-convert {\n",
              "      background-color: #3B4455;\n",
              "      fill: #D2E3FC;\n",
              "    }\n",
              "\n",
              "    [theme=dark] .colab-df-convert:hover {\n",
              "      background-color: #434B5C;\n",
              "      box-shadow: 0px 1px 3px 1px rgba(0, 0, 0, 0.15);\n",
              "      filter: drop-shadow(0px 1px 2px rgba(0, 0, 0, 0.3));\n",
              "      fill: #FFFFFF;\n",
              "    }\n",
              "  </style>\n",
              "\n",
              "      <script>\n",
              "        const buttonEl =\n",
              "          document.querySelector('#df-1935c017-76e4-40eb-b6a8-f65f1ab90c58 button.colab-df-convert');\n",
              "        buttonEl.style.display =\n",
              "          google.colab.kernel.accessAllowed ? 'block' : 'none';\n",
              "\n",
              "        async function convertToInteractive(key) {\n",
              "          const element = document.querySelector('#df-1935c017-76e4-40eb-b6a8-f65f1ab90c58');\n",
              "          const dataTable =\n",
              "            await google.colab.kernel.invokeFunction('convertToInteractive',\n",
              "                                                     [key], {});\n",
              "          if (!dataTable) return;\n",
              "\n",
              "          const docLinkHtml = 'Like what you see? Visit the ' +\n",
              "            '<a target=\"_blank\" href=https://colab.research.google.com/notebooks/data_table.ipynb>data table notebook</a>'\n",
              "            + ' to learn more about interactive tables.';\n",
              "          element.innerHTML = '';\n",
              "          dataTable['output_type'] = 'display_data';\n",
              "          await google.colab.output.renderOutput(dataTable, element);\n",
              "          const docLink = document.createElement('div');\n",
              "          docLink.innerHTML = docLinkHtml;\n",
              "          element.appendChild(docLink);\n",
              "        }\n",
              "      </script>\n",
              "    </div>\n",
              "  </div>\n",
              "  "
            ]
          },
          "metadata": {},
          "execution_count": 29
        }
      ]
    },
    {
      "cell_type": "code",
      "source": [
        "prediction = model.predict(x_test)\n",
        "prediction.reshape(-1, 1)"
      ],
      "metadata": {
        "id": "mn0JGbQ-FGcN"
      },
      "execution_count": null,
      "outputs": []
    },
    {
      "cell_type": "code",
      "source": [
        "y_test=np.array((y_test),ndmin=2)\n",
        "y_test=y_test.reshape(-1, 1)"
      ],
      "metadata": {
        "id": "kPBfndjavaAr"
      },
      "execution_count": null,
      "outputs": []
    },
    {
      "cell_type": "code",
      "source": [
        "accuracy = accuracy_score(y_test, prediction)"
      ],
      "metadata": {
        "id": "S-i3ktM8FIXx"
      },
      "execution_count": null,
      "outputs": []
    },
    {
      "cell_type": "code",
      "source": [
        "accuracy"
      ],
      "metadata": {
        "colab": {
          "base_uri": "https://localhost:8080/"
        },
        "id": "6POcTHzHwZq6",
        "outputId": "49931d63-0fbb-45a3-d3c7-fec3e74e884c"
      },
      "execution_count": null,
      "outputs": [
        {
          "output_type": "execute_result",
          "data": {
            "text/plain": [
              "0.65"
            ]
          },
          "metadata": {},
          "execution_count": 33
        }
      ]
    },
    {
      "cell_type": "markdown",
      "source": [
        "Here we can see thet the accuracy is not up to the mark so lets try to make it better with hyperparameter tuning."
      ],
      "metadata": {
        "id": "8dyTUvLJDVBk"
      }
    },
    {
      "cell_type": "markdown",
      "source": [
        "### Hyperparameter Tuning\n",
        "\n",
        "GridSearchCV is a method in scikit-learn, a popular machine learning library in Python, that performs an exhaustive search over a predefined hyperparameter grid to find the best combination of hyperparameters for a machine learning model.\n",
        "\n",
        "The term \"CV\" in GridSearchCV refers to cross-validation. It means that the method performs cross-validation internally to evaluate the performance of different hyperparameter combinations."
      ],
      "metadata": {
        "id": "s8Z479zDDvft"
      }
    },
    {
      "cell_type": "markdown",
      "source": [
        "Upon observing suboptimal accuracy results, I am conducting hyperparameter tuning to enhance the model's performance. GridSearchCV, an iterative process, is employed to explore different hyperparameter combinations and identify the optimal values for the given model. As previously mentioned, the selection of appropriate hyperparameter values greatly influences the overall performance and effectiveness of the model."
      ],
      "metadata": {
        "id": "6JwT6ziFpFn7"
      }
    },
    {
      "cell_type": "code",
      "source": [
        "from sklearn.model_selection import GridSearchCV"
      ],
      "metadata": {
        "id": "EOJeS8stFKsm"
      },
      "execution_count": null,
      "outputs": []
    },
    {
      "cell_type": "code",
      "source": [
        "SVC(gamma='scale').get_params()\n",
        "#Get the parameters of the SVC model with 'scale' gamma parameter for feature scaling"
      ],
      "metadata": {
        "colab": {
          "base_uri": "https://localhost:8080/"
        },
        "id": "7KSrJrz5IoDH",
        "outputId": "b398bfa6-04ec-466f-97c3-4eadabe79c74"
      },
      "execution_count": null,
      "outputs": [
        {
          "output_type": "execute_result",
          "data": {
            "text/plain": [
              "{'C': 1.0,\n",
              " 'break_ties': False,\n",
              " 'cache_size': 200,\n",
              " 'class_weight': None,\n",
              " 'coef0': 0.0,\n",
              " 'decision_function_shape': 'ovr',\n",
              " 'degree': 3,\n",
              " 'gamma': 'scale',\n",
              " 'kernel': 'rbf',\n",
              " 'max_iter': -1,\n",
              " 'probability': False,\n",
              " 'random_state': None,\n",
              " 'shrinking': True,\n",
              " 'tol': 0.001,\n",
              " 'verbose': False}"
            ]
          },
          "metadata": {},
          "execution_count": 35
        }
      ]
    },
    {
      "cell_type": "markdown",
      "source": [
        "**Here's how GridSearchCV works:**\n",
        "\n",
        "### Defining the parameter grid:\n",
        "You specify a dictionary or a list of dictionaries that contains the hyperparameters and their corresponding values to explore. Each dictionary represents a set of hyperparameters."
      ],
      "metadata": {
        "id": "9U8vSU4gD7oY"
      }
    },
    {
      "cell_type": "code",
      "source": [
        "param_grid = {'C':[0.01,0.1,1,10,100],\n",
        "              'gamma':[100,10,1,0,1,0.01]}"
      ],
      "metadata": {
        "id": "vQu3o4idIqA0"
      },
      "execution_count": null,
      "outputs": []
    },
    {
      "cell_type": "markdown",
      "source": [
        "- For the 'C' parameter, the values specified are [0.01, 0.1, 1, 10, 100]. 'C' controls the balance between simplicity and accuracy of the model,\n",
        "- For the 'gamma' parameter, the values specified are [100, 10, 1, 0, 1, 0.01]. 'gamma' controls the flexibility and complexity of the decision boundary.\n",
        "\n",
        "The purpose of using a grid of values is to perform a grid search, which involves training and evaluating the model using all possible combinations of the specified hyperparameter values. This helps in finding the optimal set of hyperparameters that results in the best performance for the model."
      ],
      "metadata": {
        "id": "y5yLf5jbEY9-"
      }
    },
    {
      "cell_type": "markdown",
      "source": [
        "---"
      ],
      "metadata": {
        "id": "A7FzWPnwE5TJ"
      }
    },
    {
      "cell_type": "markdown",
      "source": [
        "## Creating the estimator:\n",
        "You create an estimator object (a machine learning model) that you want to tune using GridSearchCV. This could be any scikit-learn estimator, such as a decision tree, random forest, or support vector machine.\n",
        "\n",
        "### Instantiate GridSearchCV:\n",
        "You create an instance of GridSearchCV, passing the estimator, parameter grid, and other optional parameters such as the scoring metric and cross-validation strategy."
      ],
      "metadata": {
        "id": "3IuTww0vE6Cy"
      }
    },
    {
      "cell_type": "code",
      "source": [
        "best_model = GridSearchCV(SVC(),param_grid,cv=5,refit=True)\n",
        "#Perform grid search with cross-validation to find the best model using SVC and specified parameter grid"
      ],
      "metadata": {
        "id": "XsFOyC3oIshW"
      },
      "execution_count": null,
      "outputs": []
    },
    {
      "cell_type": "markdown",
      "source": [
        "- param_grid: This parameter specifies the dictionary or list of dictionaries containing the hyperparameters and their corresponding values to explore during the grid search. In this code, the param_grid dictionary defined earlier is passed as the parameter.\n",
        "- cv: This parameter specifies the cross-validation strategy to be used during the grid search. In this code, cv=5 indicates that 5-fold cross-validation will be performed. This means that the dataset will be divided into five subsets (folds), and the model will be trained and evaluated five times, each time using a different fold as the validation set.\n",
        "-refit=True enables the automatic refitting of the best model found during the grid search on the entire dataset, allowing you to obtain a finalized model that can be used for prediction without any additional steps."
      ],
      "metadata": {
        "id": "yuzHFMuPFDfW"
      }
    },
    {
      "cell_type": "markdown",
      "source": [
        "------"
      ],
      "metadata": {
        "id": "8tH4HW8yHCmT"
      }
    },
    {
      "cell_type": "markdown",
      "source": [
        "### Fitting the data:\n",
        "You fit the GridSearchCV object to your training data. GridSearchCV will perform an exhaustive search over all possible hyperparameter combinations by training and evaluating the model for each combination using cross-validation."
      ],
      "metadata": {
        "id": "g0upvBOmHEu_"
      }
    },
    {
      "cell_type": "code",
      "source": [
        "best_model.fit(x_train,y_train)"
      ],
      "metadata": {
        "colab": {
          "base_uri": "https://localhost:8080/",
          "height": 116
        },
        "id": "odjcKxEcIvNO",
        "outputId": "d5ce79ff-7ec9-4703-bde7-99a317ce9ae9"
      },
      "execution_count": null,
      "outputs": [
        {
          "output_type": "execute_result",
          "data": {
            "text/plain": [
              "GridSearchCV(cv=5, estimator=SVC(),\n",
              "             param_grid={'C': [0.01, 0.1, 1, 10, 100],\n",
              "                         'gamma': [100, 10, 1, 0, 1, 0.01]})"
            ],
            "text/html": [
              "<style>#sk-container-id-2 {color: black;background-color: white;}#sk-container-id-2 pre{padding: 0;}#sk-container-id-2 div.sk-toggleable {background-color: white;}#sk-container-id-2 label.sk-toggleable__label {cursor: pointer;display: block;width: 100%;margin-bottom: 0;padding: 0.3em;box-sizing: border-box;text-align: center;}#sk-container-id-2 label.sk-toggleable__label-arrow:before {content: \"▸\";float: left;margin-right: 0.25em;color: #696969;}#sk-container-id-2 label.sk-toggleable__label-arrow:hover:before {color: black;}#sk-container-id-2 div.sk-estimator:hover label.sk-toggleable__label-arrow:before {color: black;}#sk-container-id-2 div.sk-toggleable__content {max-height: 0;max-width: 0;overflow: hidden;text-align: left;background-color: #f0f8ff;}#sk-container-id-2 div.sk-toggleable__content pre {margin: 0.2em;color: black;border-radius: 0.25em;background-color: #f0f8ff;}#sk-container-id-2 input.sk-toggleable__control:checked~div.sk-toggleable__content {max-height: 200px;max-width: 100%;overflow: auto;}#sk-container-id-2 input.sk-toggleable__control:checked~label.sk-toggleable__label-arrow:before {content: \"▾\";}#sk-container-id-2 div.sk-estimator input.sk-toggleable__control:checked~label.sk-toggleable__label {background-color: #d4ebff;}#sk-container-id-2 div.sk-label input.sk-toggleable__control:checked~label.sk-toggleable__label {background-color: #d4ebff;}#sk-container-id-2 input.sk-hidden--visually {border: 0;clip: rect(1px 1px 1px 1px);clip: rect(1px, 1px, 1px, 1px);height: 1px;margin: -1px;overflow: hidden;padding: 0;position: absolute;width: 1px;}#sk-container-id-2 div.sk-estimator {font-family: monospace;background-color: #f0f8ff;border: 1px dotted black;border-radius: 0.25em;box-sizing: border-box;margin-bottom: 0.5em;}#sk-container-id-2 div.sk-estimator:hover {background-color: #d4ebff;}#sk-container-id-2 div.sk-parallel-item::after {content: \"\";width: 100%;border-bottom: 1px solid gray;flex-grow: 1;}#sk-container-id-2 div.sk-label:hover label.sk-toggleable__label {background-color: #d4ebff;}#sk-container-id-2 div.sk-serial::before {content: \"\";position: absolute;border-left: 1px solid gray;box-sizing: border-box;top: 0;bottom: 0;left: 50%;z-index: 0;}#sk-container-id-2 div.sk-serial {display: flex;flex-direction: column;align-items: center;background-color: white;padding-right: 0.2em;padding-left: 0.2em;position: relative;}#sk-container-id-2 div.sk-item {position: relative;z-index: 1;}#sk-container-id-2 div.sk-parallel {display: flex;align-items: stretch;justify-content: center;background-color: white;position: relative;}#sk-container-id-2 div.sk-item::before, #sk-container-id-2 div.sk-parallel-item::before {content: \"\";position: absolute;border-left: 1px solid gray;box-sizing: border-box;top: 0;bottom: 0;left: 50%;z-index: -1;}#sk-container-id-2 div.sk-parallel-item {display: flex;flex-direction: column;z-index: 1;position: relative;background-color: white;}#sk-container-id-2 div.sk-parallel-item:first-child::after {align-self: flex-end;width: 50%;}#sk-container-id-2 div.sk-parallel-item:last-child::after {align-self: flex-start;width: 50%;}#sk-container-id-2 div.sk-parallel-item:only-child::after {width: 0;}#sk-container-id-2 div.sk-dashed-wrapped {border: 1px dashed gray;margin: 0 0.4em 0.5em 0.4em;box-sizing: border-box;padding-bottom: 0.4em;background-color: white;}#sk-container-id-2 div.sk-label label {font-family: monospace;font-weight: bold;display: inline-block;line-height: 1.2em;}#sk-container-id-2 div.sk-label-container {text-align: center;}#sk-container-id-2 div.sk-container {/* jupyter's `normalize.less` sets `[hidden] { display: none; }` but bootstrap.min.css set `[hidden] { display: none !important; }` so we also need the `!important` here to be able to override the default hidden behavior on the sphinx rendered scikit-learn.org. See: https://github.com/scikit-learn/scikit-learn/issues/21755 */display: inline-block !important;position: relative;}#sk-container-id-2 div.sk-text-repr-fallback {display: none;}</style><div id=\"sk-container-id-2\" class=\"sk-top-container\"><div class=\"sk-text-repr-fallback\"><pre>GridSearchCV(cv=5, estimator=SVC(),\n",
              "             param_grid={&#x27;C&#x27;: [0.01, 0.1, 1, 10, 100],\n",
              "                         &#x27;gamma&#x27;: [100, 10, 1, 0, 1, 0.01]})</pre><b>In a Jupyter environment, please rerun this cell to show the HTML representation or trust the notebook. <br />On GitHub, the HTML representation is unable to render, please try loading this page with nbviewer.org.</b></div><div class=\"sk-container\" hidden><div class=\"sk-item sk-dashed-wrapped\"><div class=\"sk-label-container\"><div class=\"sk-label sk-toggleable\"><input class=\"sk-toggleable__control sk-hidden--visually\" id=\"sk-estimator-id-2\" type=\"checkbox\" ><label for=\"sk-estimator-id-2\" class=\"sk-toggleable__label sk-toggleable__label-arrow\">GridSearchCV</label><div class=\"sk-toggleable__content\"><pre>GridSearchCV(cv=5, estimator=SVC(),\n",
              "             param_grid={&#x27;C&#x27;: [0.01, 0.1, 1, 10, 100],\n",
              "                         &#x27;gamma&#x27;: [100, 10, 1, 0, 1, 0.01]})</pre></div></div></div><div class=\"sk-parallel\"><div class=\"sk-parallel-item\"><div class=\"sk-item\"><div class=\"sk-label-container\"><div class=\"sk-label sk-toggleable\"><input class=\"sk-toggleable__control sk-hidden--visually\" id=\"sk-estimator-id-3\" type=\"checkbox\" ><label for=\"sk-estimator-id-3\" class=\"sk-toggleable__label sk-toggleable__label-arrow\">estimator: SVC</label><div class=\"sk-toggleable__content\"><pre>SVC()</pre></div></div></div><div class=\"sk-serial\"><div class=\"sk-item\"><div class=\"sk-estimator sk-toggleable\"><input class=\"sk-toggleable__control sk-hidden--visually\" id=\"sk-estimator-id-4\" type=\"checkbox\" ><label for=\"sk-estimator-id-4\" class=\"sk-toggleable__label sk-toggleable__label-arrow\">SVC</label><div class=\"sk-toggleable__content\"><pre>SVC()</pre></div></div></div></div></div></div></div></div></div></div>"
            ]
          },
          "metadata": {},
          "execution_count": 38
        }
      ]
    },
    {
      "cell_type": "markdown",
      "source": [
        "\n",
        "### Accessing the best model:\n",
        "You can access the best model obtained with the optimal hyperparameters using the best_estimator_ attribute of GridSearchCV"
      ],
      "metadata": {
        "id": "WpfkqeNEHUCM"
      }
    },
    {
      "cell_type": "code",
      "source": [
        "best_model.best_estimator_"
      ],
      "metadata": {
        "colab": {
          "base_uri": "https://localhost:8080/",
          "height": 74
        },
        "id": "7uyFnaO0Iw3c",
        "outputId": "c47a4e6b-732a-499b-e178-ad533e6ccc71"
      },
      "execution_count": null,
      "outputs": [
        {
          "output_type": "execute_result",
          "data": {
            "text/plain": [
              "SVC(C=100, gamma=0.01)"
            ],
            "text/html": [
              "<style>#sk-container-id-3 {color: black;background-color: white;}#sk-container-id-3 pre{padding: 0;}#sk-container-id-3 div.sk-toggleable {background-color: white;}#sk-container-id-3 label.sk-toggleable__label {cursor: pointer;display: block;width: 100%;margin-bottom: 0;padding: 0.3em;box-sizing: border-box;text-align: center;}#sk-container-id-3 label.sk-toggleable__label-arrow:before {content: \"▸\";float: left;margin-right: 0.25em;color: #696969;}#sk-container-id-3 label.sk-toggleable__label-arrow:hover:before {color: black;}#sk-container-id-3 div.sk-estimator:hover label.sk-toggleable__label-arrow:before {color: black;}#sk-container-id-3 div.sk-toggleable__content {max-height: 0;max-width: 0;overflow: hidden;text-align: left;background-color: #f0f8ff;}#sk-container-id-3 div.sk-toggleable__content pre {margin: 0.2em;color: black;border-radius: 0.25em;background-color: #f0f8ff;}#sk-container-id-3 input.sk-toggleable__control:checked~div.sk-toggleable__content {max-height: 200px;max-width: 100%;overflow: auto;}#sk-container-id-3 input.sk-toggleable__control:checked~label.sk-toggleable__label-arrow:before {content: \"▾\";}#sk-container-id-3 div.sk-estimator input.sk-toggleable__control:checked~label.sk-toggleable__label {background-color: #d4ebff;}#sk-container-id-3 div.sk-label input.sk-toggleable__control:checked~label.sk-toggleable__label {background-color: #d4ebff;}#sk-container-id-3 input.sk-hidden--visually {border: 0;clip: rect(1px 1px 1px 1px);clip: rect(1px, 1px, 1px, 1px);height: 1px;margin: -1px;overflow: hidden;padding: 0;position: absolute;width: 1px;}#sk-container-id-3 div.sk-estimator {font-family: monospace;background-color: #f0f8ff;border: 1px dotted black;border-radius: 0.25em;box-sizing: border-box;margin-bottom: 0.5em;}#sk-container-id-3 div.sk-estimator:hover {background-color: #d4ebff;}#sk-container-id-3 div.sk-parallel-item::after {content: \"\";width: 100%;border-bottom: 1px solid gray;flex-grow: 1;}#sk-container-id-3 div.sk-label:hover label.sk-toggleable__label {background-color: #d4ebff;}#sk-container-id-3 div.sk-serial::before {content: \"\";position: absolute;border-left: 1px solid gray;box-sizing: border-box;top: 0;bottom: 0;left: 50%;z-index: 0;}#sk-container-id-3 div.sk-serial {display: flex;flex-direction: column;align-items: center;background-color: white;padding-right: 0.2em;padding-left: 0.2em;position: relative;}#sk-container-id-3 div.sk-item {position: relative;z-index: 1;}#sk-container-id-3 div.sk-parallel {display: flex;align-items: stretch;justify-content: center;background-color: white;position: relative;}#sk-container-id-3 div.sk-item::before, #sk-container-id-3 div.sk-parallel-item::before {content: \"\";position: absolute;border-left: 1px solid gray;box-sizing: border-box;top: 0;bottom: 0;left: 50%;z-index: -1;}#sk-container-id-3 div.sk-parallel-item {display: flex;flex-direction: column;z-index: 1;position: relative;background-color: white;}#sk-container-id-3 div.sk-parallel-item:first-child::after {align-self: flex-end;width: 50%;}#sk-container-id-3 div.sk-parallel-item:last-child::after {align-self: flex-start;width: 50%;}#sk-container-id-3 div.sk-parallel-item:only-child::after {width: 0;}#sk-container-id-3 div.sk-dashed-wrapped {border: 1px dashed gray;margin: 0 0.4em 0.5em 0.4em;box-sizing: border-box;padding-bottom: 0.4em;background-color: white;}#sk-container-id-3 div.sk-label label {font-family: monospace;font-weight: bold;display: inline-block;line-height: 1.2em;}#sk-container-id-3 div.sk-label-container {text-align: center;}#sk-container-id-3 div.sk-container {/* jupyter's `normalize.less` sets `[hidden] { display: none; }` but bootstrap.min.css set `[hidden] { display: none !important; }` so we also need the `!important` here to be able to override the default hidden behavior on the sphinx rendered scikit-learn.org. See: https://github.com/scikit-learn/scikit-learn/issues/21755 */display: inline-block !important;position: relative;}#sk-container-id-3 div.sk-text-repr-fallback {display: none;}</style><div id=\"sk-container-id-3\" class=\"sk-top-container\"><div class=\"sk-text-repr-fallback\"><pre>SVC(C=100, gamma=0.01)</pre><b>In a Jupyter environment, please rerun this cell to show the HTML representation or trust the notebook. <br />On GitHub, the HTML representation is unable to render, please try loading this page with nbviewer.org.</b></div><div class=\"sk-container\" hidden><div class=\"sk-item\"><div class=\"sk-estimator sk-toggleable\"><input class=\"sk-toggleable__control sk-hidden--visually\" id=\"sk-estimator-id-5\" type=\"checkbox\" checked><label for=\"sk-estimator-id-5\" class=\"sk-toggleable__label sk-toggleable__label-arrow\">SVC</label><div class=\"sk-toggleable__content\"><pre>SVC(C=100, gamma=0.01)</pre></div></div></div></div></div>"
            ]
          },
          "metadata": {},
          "execution_count": 39
        }
      ]
    },
    {
      "cell_type": "code",
      "source": [
        "prediction = best_model.predict(x_test)\n",
        "prediction = prediction.reshape(-1, 1)\n"
      ],
      "metadata": {
        "id": "xUFNaQccIzXf"
      },
      "execution_count": null,
      "outputs": []
    },
    {
      "cell_type": "markdown",
      "source": [],
      "metadata": {
        "id": "-ykiFjrcpZbX"
      }
    },
    {
      "cell_type": "code",
      "source": [
        "def self_prediction():\n",
        "    age = input('Age : ')\n",
        "    sex = input('Sex : ')\n",
        "    bp = input('BP : ')\n",
        "    chol = input('Cholesterol : ')\n",
        "    NatoK = input('Na_to_K : ')\n",
        "\n",
        "\n",
        "    print('\\nPrediction')\n",
        "    print('Patient consumed : ',encoder.inverse_transform(best_model.predict([[age,sex,bp,chol,NatoK]]))[0])"
      ],
      "metadata": {
        "id": "rwwKC5YjI15Y"
      },
      "execution_count": null,
      "outputs": []
    },
    {
      "cell_type": "code",
      "source": [
        "self_prediction()"
      ],
      "metadata": {
        "colab": {
          "base_uri": "https://localhost:8080/"
        },
        "id": "jnpJGr8XI-0l",
        "outputId": "abefb73e-99da-44f4-fa09-da086367f080"
      },
      "execution_count": null,
      "outputs": [
        {
          "output_type": "stream",
          "name": "stdout",
          "text": [
            "Age : 0\n",
            "Sex : 0\n",
            "BP : 0\n",
            "Cholesterol : 0\n",
            "Na_to_K : 1\n",
            "\n",
            "Prediction\n",
            "Patient consumed :  DrugY\n"
          ]
        },
        {
          "output_type": "stream",
          "name": "stderr",
          "text": [
            "/usr/local/lib/python3.10/dist-packages/sklearn/base.py:439: UserWarning: X does not have valid feature names, but SVC was fitted with feature names\n",
            "  warnings.warn(\n"
          ]
        }
      ]
    },
    {
      "cell_type": "code",
      "source": [
        "y_test=np.array((y_test),ndmin=0)\n",
        "y_test=y_test.reshape(-1, 1)\n"
      ],
      "metadata": {
        "id": "8Dj0gaBlwu5b"
      },
      "execution_count": null,
      "outputs": []
    },
    {
      "cell_type": "code",
      "source": [
        "accuracy = accuracy_score(y_test, prediction)\n",
        "accuracy"
      ],
      "metadata": {
        "colab": {
          "base_uri": "https://localhost:8080/"
        },
        "id": "ObrOdw0qJAjS",
        "outputId": "15c960be-926d-4aaf-c904-d4e2bf8fd394"
      },
      "execution_count": null,
      "outputs": [
        {
          "output_type": "execute_result",
          "data": {
            "text/plain": [
              "0.875"
            ]
          },
          "metadata": {},
          "execution_count": 49
        }
      ]
    },
    {
      "cell_type": "markdown",
      "source": [
        "We can see that after performing the hyperparameter tuning we are getting better accuracy of about 87%."
      ],
      "metadata": {
        "id": "o_i418sFH1xj"
      }
    },
    {
      "cell_type": "markdown",
      "source": [
        "# Conclusion:\n",
        "\n",
        "In this project, we aimed to accurately predict suitable drug outcomes for patients. We performed various steps including dataset analysis, outlier detection, data distribution exploration, and data preprocessing. The dataset consisted of 200 entries and 6 columns: Age, Sex, BP, Cholesterol, Na_to_K, and Drug. We found no missing values in the dataset. We observed that the Age column showed non-normal distribution, while Na_to_K was right-skewed. We performed label encoding on the categorical columns to convert them into numeric values. The correlation analysis revealed a negative correlation (-0.69) between Na_to_K and the target column Drug, and a positive correlation (0.42) between BP and Drug. We built a Support Vector Classifier (SVC) model and achieved predictions with an accuracy score. Overall, this project aimed to provide insights into predicting suitable drug outcomes based on patient characteristics."
      ],
      "metadata": {
        "id": "6VPUQhknL8kP"
      }
    },
    {
      "cell_type": "markdown",
      "source": [
        "### <center>Thank you</center>\n"
      ],
      "metadata": {
        "id": "w0jDH3W0IDec"
      }
    }
  ]
}